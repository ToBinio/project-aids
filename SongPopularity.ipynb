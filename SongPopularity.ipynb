{
 "cells": [
  {
   "cell_type": "code",
   "execution_count": 2,
   "id": "initial_id",
   "metadata": {
    "ExecuteTime": {
     "end_time": "2024-04-12T09:04:51.975674Z",
     "start_time": "2024-04-12T09:04:51.553051Z"
    },
    "collapsed": true,
    "jupyter": {
     "outputs_hidden": true
    }
   },
   "outputs": [],
   "source": [
    "import numpy as np\n",
    "import pandas as pd\n",
    "import seaborn as sns\n",
    "from scipy.stats import randint, norm\n",
    "from sklearn.compose import ColumnTransformer\n",
    "from sklearn.ensemble import RandomForestRegressor, GradientBoostingRegressor\n",
    "from sklearn.impute import SimpleImputer\n",
    "from sklearn.linear_model import LinearRegression\n",
    "from sklearn.metrics import mean_squared_error\n",
    "from sklearn.model_selection import train_test_split, GridSearchCV, RandomizedSearchCV\n",
    "from sklearn.pipeline import Pipeline\n",
    "from sklearn.preprocessing import OneHotEncoder\n",
    "from sklearn.preprocessing import RobustScaler\n",
    "from sklearn.svm import SVR\n",
    "from sklearn.ensemble import GradientBoostingRegressor\n",
    "from sklearn.model_selection import train_test_split, GridSearchCV"
   ]
  },
  {
   "cell_type": "markdown",
   "id": "639afb26858aeeba",
   "metadata": {
    "collapsed": false,
    "jupyter": {
     "outputs_hidden": false
    }
   },
   "source": [
    "# basic Regressor"
   ]
  },
  {
   "cell_type": "markdown",
   "id": "221cb34a78f86d88",
   "metadata": {},
   "source": []
  },
  {
   "cell_type": "code",
   "execution_count": 3,
   "id": "e95849f793718a6a",
   "metadata": {
    "ExecuteTime": {
     "end_time": "2024-04-12T09:04:54.025168Z",
     "start_time": "2024-04-12T09:04:53.547903Z"
    },
    "collapsed": false,
    "jupyter": {
     "outputs_hidden": false
    }
   },
   "outputs": [
    {
     "name": "stdout",
     "output_type": "stream",
     "text": [
      "<class 'pandas.core.frame.DataFrame'>\n",
      "RangeIndex: 32821 entries, 0 to 32820\n",
      "Data columns (total 44 columns):\n",
      " #   Column                                       Non-Null Count  Dtype  \n",
      "---  ------                                       --------------  -----  \n",
      " 0   track_popularity                             32821 non-null  float64\n",
      " 1   track_album_release_date                     32821 non-null  float64\n",
      " 2   danceability                                 32821 non-null  float64\n",
      " 3   energy                                       32821 non-null  float64\n",
      " 4   key                                          32821 non-null  float64\n",
      " 5   loudness                                     32821 non-null  float64\n",
      " 6   mode                                         32821 non-null  float64\n",
      " 7   speechiness                                  32821 non-null  float64\n",
      " 8   acousticness                                 32821 non-null  float64\n",
      " 9   instrumentalness                             32821 non-null  float64\n",
      " 10  liveness                                     32821 non-null  float64\n",
      " 11  valence                                      32821 non-null  float64\n",
      " 12  tempo                                        32821 non-null  float64\n",
      " 13  duration_ms                                  32821 non-null  float64\n",
      " 14  playlist_genre_edm                           32821 non-null  float64\n",
      " 15  playlist_genre_latin                         32821 non-null  float64\n",
      " 16  playlist_genre_pop                           32821 non-null  float64\n",
      " 17  playlist_genre_r&b                           32821 non-null  float64\n",
      " 18  playlist_genre_rap                           32821 non-null  float64\n",
      " 19  playlist_genre_rock                          32821 non-null  float64\n",
      " 20  playlist_subgenre_album rock                 32821 non-null  float64\n",
      " 21  playlist_subgenre_big room                   32821 non-null  float64\n",
      " 22  playlist_subgenre_classic rock               32821 non-null  float64\n",
      " 23  playlist_subgenre_dance pop                  32821 non-null  float64\n",
      " 24  playlist_subgenre_electro house              32821 non-null  float64\n",
      " 25  playlist_subgenre_electropop                 32821 non-null  float64\n",
      " 26  playlist_subgenre_gangster rap               32821 non-null  float64\n",
      " 27  playlist_subgenre_hard rock                  32821 non-null  float64\n",
      " 28  playlist_subgenre_hip hop                    32821 non-null  float64\n",
      " 29  playlist_subgenre_hip pop                    32821 non-null  float64\n",
      " 30  playlist_subgenre_indie poptimism            32821 non-null  float64\n",
      " 31  playlist_subgenre_latin hip hop              32821 non-null  float64\n",
      " 32  playlist_subgenre_latin pop                  32821 non-null  float64\n",
      " 33  playlist_subgenre_neo soul                   32821 non-null  float64\n",
      " 34  playlist_subgenre_new jack swing             32821 non-null  float64\n",
      " 35  playlist_subgenre_permanent wave             32821 non-null  float64\n",
      " 36  playlist_subgenre_pop edm                    32821 non-null  float64\n",
      " 37  playlist_subgenre_post-teen pop              32821 non-null  float64\n",
      " 38  playlist_subgenre_progressive electro house  32821 non-null  float64\n",
      " 39  playlist_subgenre_reggaeton                  32821 non-null  float64\n",
      " 40  playlist_subgenre_southern hip hop           32821 non-null  float64\n",
      " 41  playlist_subgenre_trap                       32821 non-null  float64\n",
      " 42  playlist_subgenre_tropical                   32821 non-null  float64\n",
      " 43  playlist_subgenre_urban contemporary         32821 non-null  float64\n",
      "dtypes: float64(44)\n",
      "memory usage: 11.0 MB\n"
     ]
    }
   ],
   "source": [
    "from sklearn.preprocessing import MinMaxScaler\n",
    "\n",
    "spotify = pd.read_csv('./assets/spotify_songs.csv')\n",
    "\n",
    "spotify = spotify.drop(columns=[\"track_id\", \"track_name\", \"track_artist\", \"track_album_id\", \"track_album_name\", \"playlist_name\", \"playlist_id\"])\n",
    "\n",
    "spotify = pd.get_dummies(data=spotify, columns=[\"playlist_genre\", \"playlist_subgenre\"])\n",
    "\n",
    "spotify[\"track_album_release_date\"] = spotify[\"track_album_release_date\"].str.split(\"-\").str[0]\n",
    "\n",
    "spotify[\"track_album_release_date\"] = spotify[\"track_album_release_date\"].astype(float)\n",
    "\n",
    "scaler = MinMaxScaler()\n",
    "spotify = pd.DataFrame(scaler.fit_transform(spotify), columns=spotify.columns)\n",
    "\n",
    "spotify.info()"
   ]
  },
  {
   "cell_type": "code",
   "execution_count": 4,
   "id": "305df8c6be951796",
   "metadata": {
    "ExecuteTime": {
     "end_time": "2024-04-12T09:04:56.312271Z",
     "start_time": "2024-04-12T09:04:56.267271Z"
    },
    "collapsed": false,
    "jupyter": {
     "outputs_hidden": false
    }
   },
   "outputs": [],
   "source": [
    "X = spotify.drop(columns='track_popularity')\n",
    "y = spotify.track_popularity\n",
    "\n",
    "X_train, X_test, y_train, y_test = train_test_split(X, y, stratify=y, test_size=0.2, random_state=42)"
   ]
  },
  {
   "cell_type": "code",
   "execution_count": 4,
   "id": "a2b0adcec38a80d8",
   "metadata": {
    "ExecuteTime": {
     "end_time": "2024-04-12T07:42:51.858663Z",
     "start_time": "2024-04-12T07:39:49.987815Z"
    },
    "collapsed": false,
    "jupyter": {
     "outputs_hidden": false
    }
   },
   "outputs": [
    {
     "name": "stdout",
     "output_type": "stream",
     "text": [
      "Fitting 5 folds for each of 10 candidates, totalling 50 fits\n"
     ]
    },
    {
     "name": "stderr",
     "output_type": "stream",
     "text": [
      "C:\\Users\\tobia\\miniconda3\\envs\\aids\\lib\\site-packages\\sklearn\\model_selection\\_validation.py:425: FitFailedWarning: \n",
      "30 fits failed out of a total of 50.\n",
      "The score on these train-test partitions for these parameters will be set to nan.\n",
      "If these failures are not expected, you can try to debug them by setting error_score='raise'.\n",
      "\n",
      "Below are more details about the failures:\n",
      "--------------------------------------------------------------------------------\n",
      "16 fits failed with the following error:\n",
      "Traceback (most recent call last):\n",
      "  File \"C:\\Users\\tobia\\miniconda3\\envs\\aids\\lib\\site-packages\\sklearn\\model_selection\\_validation.py\", line 729, in _fit_and_score\n",
      "    estimator.fit(X_train, y_train, **fit_params)\n",
      "  File \"C:\\Users\\tobia\\miniconda3\\envs\\aids\\lib\\site-packages\\sklearn\\base.py\", line 1145, in wrapper\n",
      "    estimator._validate_params()\n",
      "  File \"C:\\Users\\tobia\\miniconda3\\envs\\aids\\lib\\site-packages\\sklearn\\base.py\", line 638, in _validate_params\n",
      "    validate_parameter_constraints(\n",
      "  File \"C:\\Users\\tobia\\miniconda3\\envs\\aids\\lib\\site-packages\\sklearn\\utils\\_param_validation.py\", line 95, in validate_parameter_constraints\n",
      "    raise InvalidParameterError(\n",
      "sklearn.utils._param_validation.InvalidParameterError: The 'max_features' parameter of RandomForestRegressor must be an int in the range [1, inf), a float in the range (0.0, 1.0], a str among {'log2', 'sqrt'} or None. Got 'auto' instead.\n",
      "\n",
      "--------------------------------------------------------------------------------\n",
      "14 fits failed with the following error:\n",
      "Traceback (most recent call last):\n",
      "  File \"C:\\Users\\tobia\\miniconda3\\envs\\aids\\lib\\site-packages\\sklearn\\model_selection\\_validation.py\", line 729, in _fit_and_score\n",
      "    estimator.fit(X_train, y_train, **fit_params)\n",
      "  File \"C:\\Users\\tobia\\miniconda3\\envs\\aids\\lib\\site-packages\\sklearn\\base.py\", line 1145, in wrapper\n",
      "    estimator._validate_params()\n",
      "  File \"C:\\Users\\tobia\\miniconda3\\envs\\aids\\lib\\site-packages\\sklearn\\base.py\", line 638, in _validate_params\n",
      "    validate_parameter_constraints(\n",
      "  File \"C:\\Users\\tobia\\miniconda3\\envs\\aids\\lib\\site-packages\\sklearn\\utils\\_param_validation.py\", line 95, in validate_parameter_constraints\n",
      "    raise InvalidParameterError(\n",
      "sklearn.utils._param_validation.InvalidParameterError: The 'max_features' parameter of RandomForestRegressor must be an int in the range [1, inf), a float in the range (0.0, 1.0], a str among {'sqrt', 'log2'} or None. Got 'auto' instead.\n",
      "\n",
      "  warnings.warn(some_fits_failed_message, FitFailedWarning)\n",
      "C:\\Users\\tobia\\miniconda3\\envs\\aids\\lib\\site-packages\\sklearn\\model_selection\\_search.py:979: UserWarning: One or more of the test scores are non-finite: [          nan -439.09379883 -442.55130645           nan           nan\n",
      " -438.84850391           nan -439.29784476           nan           nan]\n",
      "  warnings.warn(\n"
     ]
    },
    {
     "data": {
      "text/plain": [
       "20.709701792667214"
      ]
     },
     "execution_count": 4,
     "metadata": {},
     "output_type": "execute_result"
    }
   ],
   "source": [
    "#Number of trees in random forest\n",
    "n_estimators = [int(x) for x in np.linspace(start = 100, stop = 500, num = 10)]\n",
    "#Number of features to consider at every split\n",
    "max_features = ['auto', 'sqrt']\n",
    "#Maximum number of levels in tree\n",
    "max_depth = [int(x) for x in np.linspace(10, 110, num = 11)]\n",
    "max_depth.append(None)\n",
    "\n",
    "forest_cv = RandomizedSearchCV(\n",
    "    estimator=RandomForestRegressor(random_state=42),\n",
    "    param_distributions= {'n_estimators': n_estimators,\n",
    "                 'max_features': max_features,\n",
    "                 'max_depth': max_depth},\n",
    "    n_jobs=-1,\n",
    "    cv=5,\n",
    "    verbose=999,\n",
    "    scoring='neg_mean_squared_error',\n",
    ")\n",
    "\n",
    "forest_cv.fit(X_train, y_train)\n",
    "forest_cv.score(X_test, y_test)\n",
    "\n",
    "predictions = forest_cv.predict(X_test)\n",
    "error = mean_squared_error(y_true=y_test, y_pred=predictions)\n",
    "np.sqrt(error)"
   ]
  },
  {
   "cell_type": "code",
   "execution_count": 5,
   "id": "60fde8b02ac488ad",
   "metadata": {
    "ExecuteTime": {
     "end_time": "2024-04-12T07:44:01.023684Z",
     "start_time": "2024-04-12T07:42:51.863537Z"
    },
    "collapsed": false,
    "jupyter": {
     "outputs_hidden": false
    }
   },
   "outputs": [
    {
     "data": {
      "text/plain": [
       "20.54865022374271"
      ]
     },
     "execution_count": 5,
     "metadata": {},
     "output_type": "execute_result"
    }
   ],
   "source": [
    "forest = RandomForestRegressor(random_state=42)\n",
    "forest.fit(X_train, y_train)\n",
    "forest.score(X_test, y_test)\n",
    "\n",
    "predictions = forest.predict(X_test)\n",
    "error = mean_squared_error(y_true=y_test, y_pred=predictions)\n",
    "np.sqrt(error)"
   ]
  },
  {
   "cell_type": "code",
   "execution_count": 5,
   "id": "c7abc26b537e4c5f",
   "metadata": {
    "ExecuteTime": {
     "end_time": "2024-04-12T09:05:55.384825Z",
     "start_time": "2024-04-12T09:05:01.214648Z"
    }
   },
   "outputs": [
    {
     "data": {
      "text/plain": [
       "0.22399779060558214"
      ]
     },
     "execution_count": 5,
     "metadata": {},
     "output_type": "execute_result"
    }
   ],
   "source": [
    "svr = SVR()\n",
    "svr.fit(X_train, y_train)\n",
    "svr.score(X_test, y_test)\n",
    "\n",
    "predictions = svr.predict(X_test)\n",
    "error = mean_squared_error(y_true=y_test, y_pred=predictions)\n",
    "np.sqrt(error)"
   ]
  },
  {
   "cell_type": "code",
   "execution_count": 7,
   "id": "df2a3deabfcdf3e8",
   "metadata": {
    "ExecuteTime": {
     "end_time": "2024-04-12T07:45:34.682053Z",
     "start_time": "2024-04-12T07:45:25.158022Z"
    }
   },
   "outputs": [
    {
     "data": {
      "text/plain": [
       "21.926004772104534"
      ]
     },
     "execution_count": 7,
     "metadata": {},
     "output_type": "execute_result"
    }
   ],
   "source": [
    "gbr = GradientBoostingRegressor(random_state=42)\n",
    "gbr.fit(X_train, y_train)\n",
    "gbr.score(X_test, y_test)\n",
    "\n",
    "predictions = gbr.predict(X_test)\n",
    "error = mean_squared_error(y_true=y_test, y_pred=predictions)\n",
    "np.sqrt(error)"
   ]
  },
  {
   "cell_type": "code",
   "execution_count": 8,
   "id": "b4e4c046f403b4f0",
   "metadata": {
    "ExecuteTime": {
     "end_time": "2024-04-12T07:45:35.352808Z",
     "start_time": "2024-04-12T07:45:34.685052Z"
    }
   },
   "outputs": [
    {
     "name": "stderr",
     "output_type": "stream",
     "text": [
      "C:\\Users\\tobia\\miniconda3\\envs\\aids\\lib\\site-packages\\seaborn\\_oldcore.py:1498: FutureWarning: is_categorical_dtype is deprecated and will be removed in a future version. Use isinstance(dtype, CategoricalDtype) instead\n",
      "  if pd.api.types.is_categorical_dtype(vector):\n",
      "C:\\Users\\tobia\\miniconda3\\envs\\aids\\lib\\site-packages\\seaborn\\_oldcore.py:1119: FutureWarning: use_inf_as_na option is deprecated and will be removed in a future version. Convert inf values to NaN before operating instead.\n",
      "  with pd.option_context('mode.use_inf_as_na', True):\n"
     ]
    },
    {
     "data": {
      "text/plain": [
       "<Axes: xlabel='track_popularity', ylabel='Count'>"
      ]
     },
     "execution_count": 8,
     "metadata": {},
     "output_type": "execute_result"
    },
    {
     "data": {
      "image/png": "[encoded data removed]",
      "text/plain": [
       "<Figure size 640x480 with 1 Axes>"
      ]
     },
     "metadata": {},
     "output_type": "display_data"
    }
   ],
   "source": [
    "y_pred = forest.predict(X_test)\n",
    "\n",
    "error = np.abs(y_test - y_pred)\n",
    "\n",
    "sns.histplot(error)"
   ]
  },
  {
   "cell_type": "code",
   "execution_count": 6,
   "id": "33b6e54731db1bc5",
   "metadata": {
    "ExecuteTime": {
     "end_time": "2024-04-12T09:06:14.058232Z",
     "start_time": "2024-04-12T09:06:00.371511Z"
    }
   },
   "outputs": [
    {
     "name": "stderr",
     "output_type": "stream",
     "text": [
      "C:\\Users\\tobia\\miniconda3\\envs\\aids\\lib\\site-packages\\seaborn\\_oldcore.py:1498: FutureWarning: is_categorical_dtype is deprecated and will be removed in a future version. Use isinstance(dtype, CategoricalDtype) instead\n",
      "  if pd.api.types.is_categorical_dtype(vector):\n",
      "C:\\Users\\tobia\\miniconda3\\envs\\aids\\lib\\site-packages\\seaborn\\_oldcore.py:1119: FutureWarning: use_inf_as_na option is deprecated and will be removed in a future version. Convert inf values to NaN before operating instead.\n",
      "  with pd.option_context('mode.use_inf_as_na', True):\n"
     ]
    },
    {
     "data": {
      "text/plain": [
       "<Axes: xlabel='track_popularity', ylabel='Count'>"
      ]
     },
     "execution_count": 6,
     "metadata": {},
     "output_type": "execute_result"
    },
    {
     "data": {
      "image/png": "[encoded data removed]",
      "text/plain": [
       "<Figure size 640x480 with 1 Axes>"
      ]
     },
     "metadata": {},
     "output_type": "display_data"
    }
   ],
   "source": [
    "y_pred = svr.predict(X_test)\n",
    "\n",
    "error = np.abs(y_test - y_pred)\n",
    "\n",
    "sns.histplot(error)"
   ]
  },
  {
   "cell_type": "code",
   "execution_count": 10,
   "id": "c17ac68573e4ff39",
   "metadata": {
    "ExecuteTime": {
     "end_time": "2024-04-12T07:45:55.869590Z",
     "start_time": "2024-04-12T07:45:55.558666Z"
    }
   },
   "outputs": [
    {
     "name": "stderr",
     "output_type": "stream",
     "text": [
      "C:\\Users\\tobia\\miniconda3\\envs\\aids\\lib\\site-packages\\seaborn\\_oldcore.py:1498: FutureWarning: is_categorical_dtype is deprecated and will be removed in a future version. Use isinstance(dtype, CategoricalDtype) instead\n",
      "  if pd.api.types.is_categorical_dtype(vector):\n",
      "C:\\Users\\tobia\\miniconda3\\envs\\aids\\lib\\site-packages\\seaborn\\_oldcore.py:1119: FutureWarning: use_inf_as_na option is deprecated and will be removed in a future version. Convert inf values to NaN before operating instead.\n",
      "  with pd.option_context('mode.use_inf_as_na', True):\n"
     ]
    },
    {
     "data": {
      "text/plain": [
       "<Axes: xlabel='track_popularity', ylabel='Count'>"
      ]
     },
     "execution_count": 10,
     "metadata": {},
     "output_type": "execute_result"
    },
    {
     "data": {
      "image/png": "[encoded data removed]",
      "text/plain": [
       "<Figure size 640x480 with 1 Axes>"
      ]
     },
     "metadata": {},
     "output_type": "display_data"
    }
   ],
   "source": [
    "y_pred = gbr.predict(X_test)\n",
    "\n",
    "error = np.abs(y_test - y_pred)\n",
    "\n",
    "sns.histplot(error)"
   ]
  },
  {
   "cell_type": "code",
   "execution_count": 15,
   "id": "fa53f533588c9cba",
   "metadata": {
    "ExecuteTime": {
     "end_time": "2024-04-12T08:39:02.689285Z",
     "start_time": "2024-04-12T08:39:01.754684Z"
    }
   },
   "outputs": [
    {
     "name": "stderr",
     "output_type": "stream",
     "text": [
      "C:\\Users\\tobia\\miniconda3\\envs\\aids\\lib\\site-packages\\seaborn\\_oldcore.py:1498: FutureWarning: is_categorical_dtype is deprecated and will be removed in a future version. Use isinstance(dtype, CategoricalDtype) instead\n",
      "  if pd.api.types.is_categorical_dtype(vector):\n",
      "C:\\Users\\tobia\\miniconda3\\envs\\aids\\lib\\site-packages\\seaborn\\_oldcore.py:1119: FutureWarning: use_inf_as_na option is deprecated and will be removed in a future version. Convert inf values to NaN before operating instead.\n",
      "  with pd.option_context('mode.use_inf_as_na', True):\n"
     ]
    },
    {
     "data": {
      "text/plain": [
       "<Axes: xlabel='track_popularity', ylabel='Count'>"
      ]
     },
     "execution_count": 15,
     "metadata": {},
     "output_type": "execute_result"
    },
    {
     "data": {
      "image/png": "[encoded data removed]",
      "text/plain": [
       "<Figure size 640x480 with 1 Axes>"
      ]
     },
     "metadata": {},
     "output_type": "display_data"
    }
   ],
   "source": [
    "y_pred = gbr.predict(X_test)\n",
    "\n",
    "error = np.abs(y_test - y_pred)\n",
    "\n",
    "sns.histplot(error)"
   ]
  },
  {
   "cell_type": "code",
   "execution_count": null,
   "id": "484cfc87b5adc2bf",
   "metadata": {},
   "outputs": [],
   "source": []
  }
 ],
 "metadata": {
  "kernelspec": {
   "display_name": "Python 3 (ipykernel)",
   "language": "python",
   "name": "python3"
  },
  "language_info": {
   "codemirror_mode": {
    "name": "ipython",
    "version": 3
   },
   "file_extension": ".py",
   "mimetype": "text/x-python",
   "name": "python",
   "nbconvert_exporter": "python",
   "pygments_lexer": "ipython3",
   "version": "3.10.12"
  }
 },
 "nbformat": 4,
 "nbformat_minor": 5
}
