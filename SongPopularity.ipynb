{
 "cells": [
  {
   "cell_type": "code",
   "id": "initial_id",
   "metadata": {
    "collapsed": true,
    "ExecuteTime": {
     "end_time": "2024-04-11T17:49:43.480823Z",
     "start_time": "2024-04-11T17:49:43.297827Z"
    }
   },
   "source": [
    "import numpy as np\n",
    "import pandas as pd\n",
    "import seaborn as sns\n",
    "from scipy.stats import randint, norm\n",
    "from sklearn.compose import ColumnTransformer\n",
    "from sklearn.ensemble import RandomForestRegressor, GradientBoostingRegressor\n",
    "from sklearn.impute import SimpleImputer\n",
    "from sklearn.linear_model import LinearRegression\n",
    "from sklearn.metrics import mean_squared_error\n",
    "from sklearn.model_selection import train_test_split, GridSearchCV, RandomizedSearchCV\n",
    "from sklearn.pipeline import Pipeline\n",
    "from sklearn.preprocessing import OneHotEncoder\n",
    "from sklearn.preprocessing import RobustScaler\n",
    "from sklearn.svm import SVR\n",
    "from sklearn.ensemble import GradientBoostingRegressor\n",
    "from sklearn.model_selection import train_test_split, GridSearchCV"
   ],
   "outputs": [],
   "execution_count": 2
  },
  {
   "cell_type": "markdown",
   "source": [],
   "metadata": {
    "collapsed": false
   },
   "id": "639afb26858aeeba"
  },
  {
   "cell_type": "code",
   "source": [
    "spotify = pd.read_csv('./assets/spotify_songs.csv')\n",
    "\n",
    "spotify = spotify.drop(columns=[\"track_id\", \"track_name\", \"track_artist\", \"track_album_id\", \"track_album_name\", \"playlist_name\", \"playlist_id\"])\n",
    "\n",
    "spotify = pd.get_dummies(data=spotify, columns=[\"playlist_genre\", \"playlist_subgenre\"])\n",
    "\n",
    "spotify[\"track_album_release_date\"] = spotify[\"track_album_release_date\"].str.split(\"-\").str[0]\n",
    "\n",
    "spotify[\"track_album_release_date\"] = spotify[\"track_album_release_date\"].astype(float)\n",
    "\n",
    "spotify.info()"
   ],
   "metadata": {
    "collapsed": false,
    "ExecuteTime": {
     "end_time": "2024-04-11T17:49:57.385963Z",
     "start_time": "2024-04-11T17:49:57.195667Z"
    }
   },
   "id": "e95849f793718a6a",
   "outputs": [
    {
     "name": "stdout",
     "output_type": "stream",
     "text": [
      "<class 'pandas.core.frame.DataFrame'>\n",
      "RangeIndex: 32821 entries, 0 to 32820\n",
      "Data columns (total 44 columns):\n",
      " #   Column                                       Non-Null Count  Dtype  \n",
      "---  ------                                       --------------  -----  \n",
      " 0   track_popularity                             32821 non-null  int64  \n",
      " 1   track_album_release_date                     32821 non-null  float64\n",
      " 2   danceability                                 32821 non-null  float64\n",
      " 3   energy                                       32821 non-null  float64\n",
      " 4   key                                          32821 non-null  int64  \n",
      " 5   loudness                                     32821 non-null  float64\n",
      " 6   mode                                         32821 non-null  int64  \n",
      " 7   speechiness                                  32821 non-null  float64\n",
      " 8   acousticness                                 32821 non-null  float64\n",
      " 9   instrumentalness                             32821 non-null  float64\n",
      " 10  liveness                                     32821 non-null  float64\n",
      " 11  valence                                      32821 non-null  float64\n",
      " 12  tempo                                        32821 non-null  float64\n",
      " 13  duration_ms                                  32821 non-null  int64  \n",
      " 14  playlist_genre_edm                           32821 non-null  bool   \n",
      " 15  playlist_genre_latin                         32821 non-null  bool   \n",
      " 16  playlist_genre_pop                           32821 non-null  bool   \n",
      " 17  playlist_genre_r&b                           32821 non-null  bool   \n",
      " 18  playlist_genre_rap                           32821 non-null  bool   \n",
      " 19  playlist_genre_rock                          32821 non-null  bool   \n",
      " 20  playlist_subgenre_album rock                 32821 non-null  bool   \n",
      " 21  playlist_subgenre_big room                   32821 non-null  bool   \n",
      " 22  playlist_subgenre_classic rock               32821 non-null  bool   \n",
      " 23  playlist_subgenre_dance pop                  32821 non-null  bool   \n",
      " 24  playlist_subgenre_electro house              32821 non-null  bool   \n",
      " 25  playlist_subgenre_electropop                 32821 non-null  bool   \n",
      " 26  playlist_subgenre_gangster rap               32821 non-null  bool   \n",
      " 27  playlist_subgenre_hard rock                  32821 non-null  bool   \n",
      " 28  playlist_subgenre_hip hop                    32821 non-null  bool   \n",
      " 29  playlist_subgenre_hip pop                    32821 non-null  bool   \n",
      " 30  playlist_subgenre_indie poptimism            32821 non-null  bool   \n",
      " 31  playlist_subgenre_latin hip hop              32821 non-null  bool   \n",
      " 32  playlist_subgenre_latin pop                  32821 non-null  bool   \n",
      " 33  playlist_subgenre_neo soul                   32821 non-null  bool   \n",
      " 34  playlist_subgenre_new jack swing             32821 non-null  bool   \n",
      " 35  playlist_subgenre_permanent wave             32821 non-null  bool   \n",
      " 36  playlist_subgenre_pop edm                    32821 non-null  bool   \n",
      " 37  playlist_subgenre_post-teen pop              32821 non-null  bool   \n",
      " 38  playlist_subgenre_progressive electro house  32821 non-null  bool   \n",
      " 39  playlist_subgenre_reggaeton                  32821 non-null  bool   \n",
      " 40  playlist_subgenre_southern hip hop           32821 non-null  bool   \n",
      " 41  playlist_subgenre_trap                       32821 non-null  bool   \n",
      " 42  playlist_subgenre_tropical                   32821 non-null  bool   \n",
      " 43  playlist_subgenre_urban contemporary         32821 non-null  bool   \n",
      "dtypes: bool(30), float64(10), int64(4)\n",
      "memory usage: 4.4 MB\n"
     ]
    }
   ],
   "execution_count": 4
  },
  {
   "cell_type": "code",
   "source": [
    "X = spotify.drop(columns='track_popularity')\n",
    "y = spotify.track_popularity\n",
    "\n",
    "X_train, X_test, y_train, y_test = train_test_split(X, y, stratify=y, test_size=0.2, random_state=42)"
   ],
   "metadata": {
    "collapsed": false,
    "ExecuteTime": {
     "end_time": "2024-04-11T17:49:59.916225Z",
     "start_time": "2024-04-11T17:49:59.898992Z"
    }
   },
   "id": "305df8c6be951796",
   "outputs": [],
   "execution_count": 5
  },
  {
   "cell_type": "code",
   "source": [
    "#Number of trees in random forest\n",
    "n_estimators = [int(x) for x in np.linspace(start = 100, stop = 500, num = 10)]\n",
    "#Number of features to consider at every split\n",
    "max_features = ['auto', 'sqrt']\n",
    "#Maximum number of levels in tree\n",
    "max_depth = [int(x) for x in np.linspace(10, 110, num = 11)]\n",
    "max_depth.append(None)\n",
    "\n",
    "forest_cv = RandomizedSearchCV(\n",
    "    estimator=RandomForestRegressor(random_state=42),\n",
    "    param_distributions= {'n_estimators': n_estimators,\n",
    "                 'max_features': max_features,\n",
    "                 'max_depth': max_depth},\n",
    "    n_jobs=-1,\n",
    "    cv=5,\n",
    "    verbose=999,\n",
    "    scoring='neg_mean_squared_error',\n",
    ")\n",
    "\n",
    "forest_cv.fit(X_train, y_train)\n",
    "forest_cv.score(X_test, y_test)\n",
    "\n",
    "predictions = forest_cv.predict(X_test)\n",
    "error = mean_squared_error(y_true=y_test, y_pred=predictions)\n",
    "np.sqrt(error)"
   ],
   "metadata": {
    "collapsed": false,
    "ExecuteTime": {
     "end_time": "2024-04-11T18:18:17.012731Z",
     "start_time": "2024-04-11T18:17:08.463278Z"
    }
   },
   "id": "a2b0adcec38a80d8",
   "outputs": [
    {
     "name": "stdout",
     "output_type": "stream",
     "text": [
      "Fitting 5 folds for each of 10 candidates, totalling 50 fits\n"
     ]
    },
    {
     "name": "stderr",
     "output_type": "stream",
     "text": [
      "C:\\Users\\benni\\miniconda3\\envs\\dsai\\Lib\\site-packages\\sklearn\\model_selection\\_validation.py:547: FitFailedWarning: \n",
      "15 fits failed out of a total of 50.\n",
      "The score on these train-test partitions for these parameters will be set to nan.\n",
      "If these failures are not expected, you can try to debug them by setting error_score='raise'.\n",
      "\n",
      "Below are more details about the failures:\n",
      "--------------------------------------------------------------------------------\n",
      "5 fits failed with the following error:\n",
      "Traceback (most recent call last):\n",
      "  File \"C:\\Users\\benni\\miniconda3\\envs\\dsai\\Lib\\site-packages\\sklearn\\model_selection\\_validation.py\", line 895, in _fit_and_score\n",
      "    estimator.fit(X_train, y_train, **fit_params)\n",
      "  File \"C:\\Users\\benni\\miniconda3\\envs\\dsai\\Lib\\site-packages\\sklearn\\base.py\", line 1467, in wrapper\n",
      "    estimator._validate_params()\n",
      "  File \"C:\\Users\\benni\\miniconda3\\envs\\dsai\\Lib\\site-packages\\sklearn\\base.py\", line 666, in _validate_params\n",
      "    validate_parameter_constraints(\n",
      "  File \"C:\\Users\\benni\\miniconda3\\envs\\dsai\\Lib\\site-packages\\sklearn\\utils\\_param_validation.py\", line 95, in validate_parameter_constraints\n",
      "    raise InvalidParameterError(\n",
      "sklearn.utils._param_validation.InvalidParameterError: The 'max_features' parameter of RandomForestRegressor must be an int in the range [1, inf), a float in the range (0.0, 1.0], a str among {'sqrt', 'log2'} or None. Got 'auto' instead.\n",
      "\n",
      "--------------------------------------------------------------------------------\n",
      "10 fits failed with the following error:\n",
      "Traceback (most recent call last):\n",
      "  File \"C:\\Users\\benni\\miniconda3\\envs\\dsai\\Lib\\site-packages\\sklearn\\model_selection\\_validation.py\", line 895, in _fit_and_score\n",
      "    estimator.fit(X_train, y_train, **fit_params)\n",
      "  File \"C:\\Users\\benni\\miniconda3\\envs\\dsai\\Lib\\site-packages\\sklearn\\base.py\", line 1467, in wrapper\n",
      "    estimator._validate_params()\n",
      "  File \"C:\\Users\\benni\\miniconda3\\envs\\dsai\\Lib\\site-packages\\sklearn\\base.py\", line 666, in _validate_params\n",
      "    validate_parameter_constraints(\n",
      "  File \"C:\\Users\\benni\\miniconda3\\envs\\dsai\\Lib\\site-packages\\sklearn\\utils\\_param_validation.py\", line 95, in validate_parameter_constraints\n",
      "    raise InvalidParameterError(\n",
      "sklearn.utils._param_validation.InvalidParameterError: The 'max_features' parameter of RandomForestRegressor must be an int in the range [1, inf), a float in the range (0.0, 1.0], a str among {'log2', 'sqrt'} or None. Got 'auto' instead.\n",
      "\n",
      "  warnings.warn(some_fits_failed_message, FitFailedWarning)\n",
      "C:\\Users\\benni\\miniconda3\\envs\\dsai\\Lib\\site-packages\\sklearn\\model_selection\\_search.py:1051: UserWarning: One or more of the test scores are non-finite: [-491.05276416 -442.55130645 -439.32693601 -438.9032399            nan\n",
      " -450.78662899 -438.9032399  -439.06065455           nan           nan]\n",
      "  warnings.warn(\n"
     ]
    },
    {
     "data": {
      "text/plain": [
       "20.70882667900815"
      ]
     },
     "execution_count": 8,
     "metadata": {},
     "output_type": "execute_result"
    }
   ],
   "execution_count": 8
  },
  {
   "cell_type": "code",
   "source": [
    "forest = RandomForestRegressor(random_state=42)\n",
    "forest.fit(X_train, y_train)\n",
    "forest.score(X_test, y_test)\n",
    "\n",
    "predictions = forest.predict(X_test)\n",
    "error = mean_squared_error(y_true=y_test, y_pred=predictions)\n",
    "np.sqrt(error)"
   ],
   "metadata": {
    "collapsed": false,
    "ExecuteTime": {
     "end_time": "2024-04-11T17:50:28.441184Z",
     "start_time": "2024-04-11T17:50:05.999025Z"
    }
   },
   "id": "60fde8b02ac488ad",
   "outputs": [
    {
     "data": {
      "text/plain": [
       "20.54865022374271"
      ]
     },
     "execution_count": 6,
     "metadata": {},
     "output_type": "execute_result"
    }
   ],
   "execution_count": 6
  },
  {
   "metadata": {
    "jupyter": {
     "is_executing": true
    },
    "ExecuteTime": {
     "start_time": "2024-04-11T17:49:10.279821Z"
    }
   },
   "cell_type": "code",
   "source": [
    "svr = SVR()\n",
    "svr.fit(X_train, y_train)\n",
    "svr.score(X_test, y_test)\n",
    "\n",
    "predictions = svr.predict(X_test)\n",
    "error = mean_squared_error(y_true=y_test, y_pred=predictions)\n",
    "np.sqrt(error)"
   ],
   "id": "c7abc26b537e4c5f",
   "outputs": [],
   "execution_count": null
  },
  {
   "metadata": {
    "ExecuteTime": {
     "end_time": "2024-04-11T17:47:19.444437Z",
     "start_time": "2024-04-11T17:47:14.078938Z"
    }
   },
   "cell_type": "code",
   "source": [
    "gbr = GradientBoostingRegressor(random_state=42)\n",
    "gbr.fit(X_train, y_train)\n",
    "gbr.score(X_test, y_test)\n",
    "\n",
    "predictions = gbr.predict(X_test)\n",
    "error = mean_squared_error(y_true=y_test, y_pred=predictions)\n",
    "np.sqrt(error)"
   ],
   "id": "df2a3deabfcdf3e8",
   "outputs": [
    {
     "data": {
      "text/plain": [
       "21.926004772104534"
      ]
     },
     "execution_count": 16,
     "metadata": {},
     "output_type": "execute_result"
    }
   ],
   "execution_count": 16
  },
  {
   "metadata": {
    "ExecuteTime": {
     "end_time": "2024-04-11T17:50:31.764863Z",
     "start_time": "2024-04-11T17:50:31.500385Z"
    }
   },
   "cell_type": "code",
   "source": [
    "y_pred = forest.predict(X_test)\n",
    "\n",
    "error = np.abs(y_test - y_pred)\n",
    "\n",
    "sns.histplot(error)"
   ],
   "id": "b4e4c046f403b4f0",
   "outputs": [
    {
     "data": {
      "text/plain": [
       "<Axes: xlabel='track_popularity', ylabel='Count'>"
      ]
     },
     "execution_count": 7,
     "metadata": {},
     "output_type": "execute_result"
    },
    {
     "data": {
      "text/plain": [
       "<Figure size 640x480 with 1 Axes>"
      ],
      "image/png": "[encoded data removed]"
     },
     "metadata": {},
     "output_type": "display_data"
    }
   ],
   "execution_count": 7
  },
  {
   "metadata": {
    "ExecuteTime": {
     "end_time": "2024-04-11T17:47:35.689532Z",
     "start_time": "2024-04-11T17:47:27.072156Z"
    }
   },
   "cell_type": "code",
   "source": [
    "y_pred = svr.predict(X_test)\n",
    "\n",
    "error = np.abs(y_test - y_pred)\n",
    "\n",
    "sns.histplot(error)"
   ],
   "id": "33b6e54731db1bc5",
   "outputs": [
    {
     "data": {
      "text/plain": [
       "<Axes: xlabel='track_popularity', ylabel='Count'>"
      ]
     },
     "execution_count": 17,
     "metadata": {},
     "output_type": "execute_result"
    },
    {
     "data": {
      "text/plain": [
       "<Figure size 640x480 with 1 Axes>"
      ],
      "image/png": "[encoded data removed]"
     },
     "metadata": {},
     "output_type": "display_data"
    }
   ],
   "execution_count": 17
  },
  {
   "metadata": {
    "ExecuteTime": {
     "end_time": "2024-04-11T17:48:30.344693Z",
     "start_time": "2024-04-11T17:48:30.220396Z"
    }
   },
   "cell_type": "code",
   "source": [
    "y_pred = gbr.predict(X_test)\n",
    "\n",
    "error = np.abs(y_test - y_pred)\n",
    "\n",
    "sns.histplot(error)"
   ],
   "id": "c17ac68573e4ff39",
   "outputs": [
    {
     "data": {
      "text/plain": [
       "<Axes: xlabel='track_popularity', ylabel='Count'>"
      ]
     },
     "execution_count": 18,
     "metadata": {},
     "output_type": "execute_result"
    },
    {
     "data": {
      "text/plain": [
       "<Figure size 640x480 with 1 Axes>"
      ],
      "image/png": "[encoded data removed]"
     },
     "metadata": {},
     "output_type": "display_data"
    }
   ],
   "execution_count": 18
  }
 ],
 "metadata": {
  "kernelspec": {
   "display_name": "Python 3",
   "language": "python",
   "name": "python3"
  },
  "language_info": {
   "codemirror_mode": {
    "name": "ipython",
    "version": 2
   },
   "file_extension": ".py",
   "mimetype": "text/x-python",
   "name": "python",
   "nbconvert_exporter": "python",
   "pygments_lexer": "ipython2",
   "version": "2.7.6"
  }
 },
 "nbformat": 4,
 "nbformat_minor": 5
}
