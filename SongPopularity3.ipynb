{
 "cells": [
  {
   "cell_type": "code",
   "id": "initial_id",
   "metadata": {
    "collapsed": true,
    "ExecuteTime": {
     "end_time": "2024-04-12T08:10:21.890745Z",
     "start_time": "2024-04-12T08:10:21.878121Z"
    }
   },
   "source": [
    "import numpy as np\n",
    "import pandas as pd\n",
    "import seaborn as sns\n",
    "from scipy.stats import randint, norm\n",
    "from sklearn.compose import ColumnTransformer\n",
    "from sklearn.ensemble import RandomForestRegressor, GradientBoostingRegressor\n",
    "from sklearn.impute import SimpleImputer\n",
    "from sklearn.linear_model import LinearRegression\n",
    "from sklearn.metrics import mean_squared_error\n",
    "from sklearn.model_selection import train_test_split, GridSearchCV, RandomizedSearchCV\n",
    "from sklearn.pipeline import Pipeline\n",
    "from sklearn.preprocessing import OneHotEncoder\n",
    "from sklearn.preprocessing import RobustScaler\n",
    "from sklearn.svm import SVR\n",
    "from sklearn.ensemble import GradientBoostingRegressor\n",
    "from sklearn.model_selection import train_test_split, GridSearchCV"
   ],
   "outputs": [],
   "execution_count": 6
  },
  {
   "cell_type": "markdown",
   "source": [],
   "metadata": {
    "collapsed": false
   },
   "id": "639afb26858aeeba"
  },
  {
   "metadata": {},
   "cell_type": "markdown",
   "source": "# Regressor nur mit weird values",
   "id": "815ded433a497b72"
  },
  {
   "cell_type": "code",
   "source": [
    "from sklearn.preprocessing import MinMaxScaler\n",
    "\n",
    "spotify = pd.read_csv('./assets/spotify_songs.csv')\n",
    "\n",
    "spotify = spotify.drop(\n",
    "    columns=[\"track_id\", \"track_name\", \"track_artist\", \"track_album_id\", \"track_album_name\", \"playlist_name\",\n",
    "             \"playlist_id\", \"playlist_genre\", \"playlist_subgenre\", \"track_album_release_date\"])\n",
    "\n",
    "scaler = MinMaxScaler()\n",
    "spotify = pd.DataFrame(scaler.fit_transform(spotify), columns=spotify.columns)\n",
    "\n",
    "spotify.sample(10)"
   ],
   "metadata": {
    "collapsed": false,
    "ExecuteTime": {
     "end_time": "2024-04-12T08:24:44.951316Z",
     "start_time": "2024-04-12T08:24:44.724583Z"
    }
   },
   "id": "e95849f793718a6a",
   "outputs": [
    {
     "data": {
      "text/plain": [
       "       track_popularity  danceability    energy       key  loudness  mode  \\\n",
       "16824              0.37      0.852492  0.534919  0.909091  0.857029   1.0   \n",
       "13412              0.10      0.393693  0.374891  0.818182  0.745888   1.0   \n",
       "16717              0.70      0.511699  0.753957  0.636364  0.897136   1.0   \n",
       "24717              0.02      0.737538  0.445903  0.272727  0.782662   0.0   \n",
       "15643              0.00      0.566633  0.957993  0.181818  0.876265   1.0   \n",
       "2257               0.18      0.577823  0.685945  1.000000  0.870587   0.0   \n",
       "28964              0.67      0.495422  0.728953  0.181818  0.830480   1.0   \n",
       "23418              0.59      0.785351  0.589928  0.545455  0.827505   1.0   \n",
       "11079              0.07      0.665310  0.526917  0.363636  0.840140   0.0   \n",
       "0                  0.66      0.760936  0.915985  0.545455  0.918090   1.0   \n",
       "\n",
       "       speechiness  acousticness  instrumentalness  liveness   valence  \\\n",
       "16824     0.175381      0.182093          0.000021  0.105422  0.672048   \n",
       "13412     0.038671      0.206237          0.006509  0.081024  0.507568   \n",
       "16717     0.046187      0.265594          0.000059  0.298193  0.602422   \n",
       "24717     0.083878      0.035614          0.000015  0.313253  0.781029   \n",
       "15643     0.073965      0.001157          0.006388  0.069076  0.404642   \n",
       "2257      0.098366      0.133803          0.000000  0.110442  0.403633   \n",
       "28964     0.295207      0.054125          0.000004  0.441767  0.218971   \n",
       "23418     0.199346      0.092254          0.000000  0.101406  0.749748   \n",
       "11079     0.036383      0.553320          0.000003  0.109438  0.115035   \n",
       "0         0.063508      0.102616          0.000000  0.065562  0.522704   \n",
       "\n",
       "          tempo  duration_ms  \n",
       "16824  0.417750     0.251455  \n",
       "13412  0.210717     0.563035  \n",
       "16717  0.486652     0.355676  \n",
       "24717  0.394266     0.465853  \n",
       "15643  0.555555     0.450542  \n",
       "2257   0.619337     0.398461  \n",
       "28964  0.380254     0.673634  \n",
       "23418  0.350810     0.455941  \n",
       "11079  0.476186     0.522833  \n",
       "0      0.509673     0.371254  "
      ],
      "text/html": [
       "<div>\n",
       "<style scoped>\n",
       "    .dataframe tbody tr th:only-of-type {\n",
       "        vertical-align: middle;\n",
       "    }\n",
       "\n",
       "    .dataframe tbody tr th {\n",
       "        vertical-align: top;\n",
       "    }\n",
       "\n",
       "    .dataframe thead th {\n",
       "        text-align: right;\n",
       "    }\n",
       "</style>\n",
       "<table border=\"1\" class=\"dataframe\">\n",
       "  <thead>\n",
       "    <tr style=\"text-align: right;\">\n",
       "      <th></th>\n",
       "      <th>track_popularity</th>\n",
       "      <th>danceability</th>\n",
       "      <th>energy</th>\n",
       "      <th>key</th>\n",
       "      <th>loudness</th>\n",
       "      <th>mode</th>\n",
       "      <th>speechiness</th>\n",
       "      <th>acousticness</th>\n",
       "      <th>instrumentalness</th>\n",
       "      <th>liveness</th>\n",
       "      <th>valence</th>\n",
       "      <th>tempo</th>\n",
       "      <th>duration_ms</th>\n",
       "    </tr>\n",
       "  </thead>\n",
       "  <tbody>\n",
       "    <tr>\n",
       "      <th>16824</th>\n",
       "      <td>0.37</td>\n",
       "      <td>0.852492</td>\n",
       "      <td>0.534919</td>\n",
       "      <td>0.909091</td>\n",
       "      <td>0.857029</td>\n",
       "      <td>1.0</td>\n",
       "      <td>0.175381</td>\n",
       "      <td>0.182093</td>\n",
       "      <td>0.000021</td>\n",
       "      <td>0.105422</td>\n",
       "      <td>0.672048</td>\n",
       "      <td>0.417750</td>\n",
       "      <td>0.251455</td>\n",
       "    </tr>\n",
       "    <tr>\n",
       "      <th>13412</th>\n",
       "      <td>0.10</td>\n",
       "      <td>0.393693</td>\n",
       "      <td>0.374891</td>\n",
       "      <td>0.818182</td>\n",
       "      <td>0.745888</td>\n",
       "      <td>1.0</td>\n",
       "      <td>0.038671</td>\n",
       "      <td>0.206237</td>\n",
       "      <td>0.006509</td>\n",
       "      <td>0.081024</td>\n",
       "      <td>0.507568</td>\n",
       "      <td>0.210717</td>\n",
       "      <td>0.563035</td>\n",
       "    </tr>\n",
       "    <tr>\n",
       "      <th>16717</th>\n",
       "      <td>0.70</td>\n",
       "      <td>0.511699</td>\n",
       "      <td>0.753957</td>\n",
       "      <td>0.636364</td>\n",
       "      <td>0.897136</td>\n",
       "      <td>1.0</td>\n",
       "      <td>0.046187</td>\n",
       "      <td>0.265594</td>\n",
       "      <td>0.000059</td>\n",
       "      <td>0.298193</td>\n",
       "      <td>0.602422</td>\n",
       "      <td>0.486652</td>\n",
       "      <td>0.355676</td>\n",
       "    </tr>\n",
       "    <tr>\n",
       "      <th>24717</th>\n",
       "      <td>0.02</td>\n",
       "      <td>0.737538</td>\n",
       "      <td>0.445903</td>\n",
       "      <td>0.272727</td>\n",
       "      <td>0.782662</td>\n",
       "      <td>0.0</td>\n",
       "      <td>0.083878</td>\n",
       "      <td>0.035614</td>\n",
       "      <td>0.000015</td>\n",
       "      <td>0.313253</td>\n",
       "      <td>0.781029</td>\n",
       "      <td>0.394266</td>\n",
       "      <td>0.465853</td>\n",
       "    </tr>\n",
       "    <tr>\n",
       "      <th>15643</th>\n",
       "      <td>0.00</td>\n",
       "      <td>0.566633</td>\n",
       "      <td>0.957993</td>\n",
       "      <td>0.181818</td>\n",
       "      <td>0.876265</td>\n",
       "      <td>1.0</td>\n",
       "      <td>0.073965</td>\n",
       "      <td>0.001157</td>\n",
       "      <td>0.006388</td>\n",
       "      <td>0.069076</td>\n",
       "      <td>0.404642</td>\n",
       "      <td>0.555555</td>\n",
       "      <td>0.450542</td>\n",
       "    </tr>\n",
       "    <tr>\n",
       "      <th>2257</th>\n",
       "      <td>0.18</td>\n",
       "      <td>0.577823</td>\n",
       "      <td>0.685945</td>\n",
       "      <td>1.000000</td>\n",
       "      <td>0.870587</td>\n",
       "      <td>0.0</td>\n",
       "      <td>0.098366</td>\n",
       "      <td>0.133803</td>\n",
       "      <td>0.000000</td>\n",
       "      <td>0.110442</td>\n",
       "      <td>0.403633</td>\n",
       "      <td>0.619337</td>\n",
       "      <td>0.398461</td>\n",
       "    </tr>\n",
       "    <tr>\n",
       "      <th>28964</th>\n",
       "      <td>0.67</td>\n",
       "      <td>0.495422</td>\n",
       "      <td>0.728953</td>\n",
       "      <td>0.181818</td>\n",
       "      <td>0.830480</td>\n",
       "      <td>1.0</td>\n",
       "      <td>0.295207</td>\n",
       "      <td>0.054125</td>\n",
       "      <td>0.000004</td>\n",
       "      <td>0.441767</td>\n",
       "      <td>0.218971</td>\n",
       "      <td>0.380254</td>\n",
       "      <td>0.673634</td>\n",
       "    </tr>\n",
       "    <tr>\n",
       "      <th>23418</th>\n",
       "      <td>0.59</td>\n",
       "      <td>0.785351</td>\n",
       "      <td>0.589928</td>\n",
       "      <td>0.545455</td>\n",
       "      <td>0.827505</td>\n",
       "      <td>1.0</td>\n",
       "      <td>0.199346</td>\n",
       "      <td>0.092254</td>\n",
       "      <td>0.000000</td>\n",
       "      <td>0.101406</td>\n",
       "      <td>0.749748</td>\n",
       "      <td>0.350810</td>\n",
       "      <td>0.455941</td>\n",
       "    </tr>\n",
       "    <tr>\n",
       "      <th>11079</th>\n",
       "      <td>0.07</td>\n",
       "      <td>0.665310</td>\n",
       "      <td>0.526917</td>\n",
       "      <td>0.363636</td>\n",
       "      <td>0.840140</td>\n",
       "      <td>0.0</td>\n",
       "      <td>0.036383</td>\n",
       "      <td>0.553320</td>\n",
       "      <td>0.000003</td>\n",
       "      <td>0.109438</td>\n",
       "      <td>0.115035</td>\n",
       "      <td>0.476186</td>\n",
       "      <td>0.522833</td>\n",
       "    </tr>\n",
       "    <tr>\n",
       "      <th>0</th>\n",
       "      <td>0.66</td>\n",
       "      <td>0.760936</td>\n",
       "      <td>0.915985</td>\n",
       "      <td>0.545455</td>\n",
       "      <td>0.918090</td>\n",
       "      <td>1.0</td>\n",
       "      <td>0.063508</td>\n",
       "      <td>0.102616</td>\n",
       "      <td>0.000000</td>\n",
       "      <td>0.065562</td>\n",
       "      <td>0.522704</td>\n",
       "      <td>0.509673</td>\n",
       "      <td>0.371254</td>\n",
       "    </tr>\n",
       "  </tbody>\n",
       "</table>\n",
       "</div>"
      ]
     },
     "execution_count": 22,
     "metadata": {},
     "output_type": "execute_result"
    }
   ],
   "execution_count": 22
  },
  {
   "cell_type": "code",
   "source": [
    "X = spotify.drop(columns='track_popularity')\n",
    "y = spotify.track_popularity\n",
    "\n",
    "X_train, X_test, y_train, y_test = train_test_split(X, y, stratify=y, test_size=0.2, random_state=42)"
   ],
   "metadata": {
    "collapsed": false,
    "ExecuteTime": {
     "end_time": "2024-04-12T08:24:47.359183Z",
     "start_time": "2024-04-12T08:24:47.324513Z"
    }
   },
   "id": "305df8c6be951796",
   "outputs": [],
   "execution_count": 23
  },
  {
   "cell_type": "code",
   "source": [
    "#Number of trees in random forest\n",
    "n_estimators = [int(x) for x in np.linspace(start=100, stop=500, num=10)]\n",
    "#Number of features to consider at every split\n",
    "max_features = ['auto', 'sqrt']\n",
    "#Maximum number of levels in tree\n",
    "max_depth = [int(x) for x in np.linspace(10, 110, num=11)]\n",
    "max_depth.append(None)\n",
    "\n",
    "forest_cv = RandomizedSearchCV(\n",
    "    estimator=RandomForestRegressor(random_state=42),\n",
    "    param_distributions={'n_estimators': n_estimators,\n",
    "                         'max_features': max_features,\n",
    "                         'max_depth': max_depth},\n",
    "    n_jobs=-1,\n",
    "    cv=5,\n",
    "    verbose=999,\n",
    "    scoring='neg_mean_squared_error',\n",
    ")\n",
    "\n",
    "forest_cv.fit(X_train, y_train)\n",
    "forest_cv.score(X_test, y_test)\n",
    "\n",
    "predictions = forest_cv.predict(X_test)\n",
    "error = mean_squared_error(y_true=y_test, y_pred=predictions)\n",
    "np.sqrt(error)"
   ],
   "metadata": {
    "collapsed": false,
    "ExecuteTime": {
     "end_time": "2024-04-12T08:15:26.611633Z",
     "start_time": "2024-04-12T08:10:22.283470Z"
    }
   },
   "id": "a2b0adcec38a80d8",
   "outputs": [
    {
     "name": "stdout",
     "output_type": "stream",
     "text": [
      "Fitting 5 folds for each of 10 candidates, totalling 50 fits\n"
     ]
    },
    {
     "name": "stderr",
     "output_type": "stream",
     "text": [
      "C:\\Users\\tobia\\miniconda3\\envs\\aids\\lib\\site-packages\\sklearn\\model_selection\\_validation.py:425: FitFailedWarning: \n",
      "25 fits failed out of a total of 50.\n",
      "The score on these train-test partitions for these parameters will be set to nan.\n",
      "If these failures are not expected, you can try to debug them by setting error_score='raise'.\n",
      "\n",
      "Below are more details about the failures:\n",
      "--------------------------------------------------------------------------------\n",
      "24 fits failed with the following error:\n",
      "Traceback (most recent call last):\n",
      "  File \"C:\\Users\\tobia\\miniconda3\\envs\\aids\\lib\\site-packages\\sklearn\\model_selection\\_validation.py\", line 729, in _fit_and_score\n",
      "    estimator.fit(X_train, y_train, **fit_params)\n",
      "  File \"C:\\Users\\tobia\\miniconda3\\envs\\aids\\lib\\site-packages\\sklearn\\base.py\", line 1145, in wrapper\n",
      "    estimator._validate_params()\n",
      "  File \"C:\\Users\\tobia\\miniconda3\\envs\\aids\\lib\\site-packages\\sklearn\\base.py\", line 638, in _validate_params\n",
      "    validate_parameter_constraints(\n",
      "  File \"C:\\Users\\tobia\\miniconda3\\envs\\aids\\lib\\site-packages\\sklearn\\utils\\_param_validation.py\", line 95, in validate_parameter_constraints\n",
      "    raise InvalidParameterError(\n",
      "sklearn.utils._param_validation.InvalidParameterError: The 'max_features' parameter of RandomForestRegressor must be an int in the range [1, inf), a float in the range (0.0, 1.0], a str among {'log2', 'sqrt'} or None. Got 'auto' instead.\n",
      "\n",
      "--------------------------------------------------------------------------------\n",
      "1 fits failed with the following error:\n",
      "Traceback (most recent call last):\n",
      "  File \"C:\\Users\\tobia\\miniconda3\\envs\\aids\\lib\\site-packages\\sklearn\\model_selection\\_validation.py\", line 729, in _fit_and_score\n",
      "    estimator.fit(X_train, y_train, **fit_params)\n",
      "  File \"C:\\Users\\tobia\\miniconda3\\envs\\aids\\lib\\site-packages\\sklearn\\base.py\", line 1145, in wrapper\n",
      "    estimator._validate_params()\n",
      "  File \"C:\\Users\\tobia\\miniconda3\\envs\\aids\\lib\\site-packages\\sklearn\\base.py\", line 638, in _validate_params\n",
      "    validate_parameter_constraints(\n",
      "  File \"C:\\Users\\tobia\\miniconda3\\envs\\aids\\lib\\site-packages\\sklearn\\utils\\_param_validation.py\", line 95, in validate_parameter_constraints\n",
      "    raise InvalidParameterError(\n",
      "sklearn.utils._param_validation.InvalidParameterError: The 'max_features' parameter of RandomForestRegressor must be an int in the range [1, inf), a float in the range (0.0, 1.0], a str among {'sqrt', 'log2'} or None. Got 'auto' instead.\n",
      "\n",
      "  warnings.warn(some_fits_failed_message, FitFailedWarning)\n",
      "C:\\Users\\tobia\\miniconda3\\envs\\aids\\lib\\site-packages\\sklearn\\model_selection\\_search.py:979: UserWarning: One or more of the test scores are non-finite: [          nan -450.6183658  -450.6855993  -450.63576682 -450.63576682\n",
      "           nan           nan           nan -449.36890653           nan]\n",
      "  warnings.warn(\n"
     ]
    },
    {
     "data": {
      "text/plain": [
       "20.804833059200156"
      ]
     },
     "execution_count": 9,
     "metadata": {},
     "output_type": "execute_result"
    }
   ],
   "execution_count": 9
  },
  {
   "cell_type": "code",
   "source": [
    "forest = RandomForestRegressor(random_state=42)\n",
    "forest.fit(X_train, y_train)\n",
    "forest.score(X_test, y_test)\n",
    "\n",
    "predictions = forest.predict(X_test)\n",
    "error = mean_squared_error(y_true=y_test, y_pred=predictions)\n",
    "np.sqrt(error)"
   ],
   "metadata": {
    "collapsed": false,
    "ExecuteTime": {
     "end_time": "2024-04-12T08:16:21.555819Z",
     "start_time": "2024-04-12T08:15:26.615122Z"
    }
   },
   "id": "60fde8b02ac488ad",
   "outputs": [
    {
     "data": {
      "text/plain": [
       "21.048655021423464"
      ]
     },
     "execution_count": 10,
     "metadata": {},
     "output_type": "execute_result"
    }
   ],
   "execution_count": 10
  },
  {
   "metadata": {
    "ExecuteTime": {
     "end_time": "2024-04-12T08:25:40.238779Z",
     "start_time": "2024-04-12T08:24:51.713248Z"
    }
   },
   "cell_type": "code",
   "source": [
    "svr = SVR()\n",
    "svr.fit(X_train, y_train)\n",
    "svr.score(X_test, y_test)\n",
    "\n",
    "predictions = svr.predict(X_test)\n",
    "error = mean_squared_error(y_true=y_test, y_pred=predictions)\n",
    "np.sqrt(error)"
   ],
   "id": "c7abc26b537e4c5f",
   "outputs": [
    {
     "data": {
      "text/plain": [
       "0.23958833969512852"
      ]
     },
     "execution_count": 24,
     "metadata": {},
     "output_type": "execute_result"
    }
   ],
   "execution_count": 24
  },
  {
   "metadata": {
    "ExecuteTime": {
     "end_time": "2024-04-12T08:17:38.730240Z",
     "start_time": "2024-04-12T08:17:30.160164Z"
    }
   },
   "cell_type": "code",
   "source": [
    "gbr = GradientBoostingRegressor(random_state=42)\n",
    "gbr.fit(X_train, y_train)\n",
    "gbr.score(X_test, y_test)\n",
    "\n",
    "predictions = gbr.predict(X_test)\n",
    "error = mean_squared_error(y_true=y_test, y_pred=predictions)\n",
    "np.sqrt(error)"
   ],
   "id": "df2a3deabfcdf3e8",
   "outputs": [
    {
     "data": {
      "text/plain": [
       "23.498863986026354"
      ]
     },
     "execution_count": 12,
     "metadata": {},
     "output_type": "execute_result"
    }
   ],
   "execution_count": 12
  },
  {
   "metadata": {
    "ExecuteTime": {
     "end_time": "2024-04-12T08:19:31.320703Z",
     "start_time": "2024-04-12T08:19:29.811299Z"
    }
   },
   "cell_type": "code",
   "source": [
    "y_pred = forest_cv.predict(X_test)\n",
    "\n",
    "error = np.abs(y_test - y_pred)\n",
    "\n",
    "sns.histplot(error)"
   ],
   "id": "ed025bcb2b3b1e86",
   "outputs": [
    {
     "name": "stderr",
     "output_type": "stream",
     "text": [
      "C:\\Users\\tobia\\miniconda3\\envs\\aids\\lib\\site-packages\\seaborn\\_oldcore.py:1498: FutureWarning: is_categorical_dtype is deprecated and will be removed in a future version. Use isinstance(dtype, CategoricalDtype) instead\n",
      "  if pd.api.types.is_categorical_dtype(vector):\n",
      "C:\\Users\\tobia\\miniconda3\\envs\\aids\\lib\\site-packages\\seaborn\\_oldcore.py:1119: FutureWarning: use_inf_as_na option is deprecated and will be removed in a future version. Convert inf values to NaN before operating instead.\n",
      "  with pd.option_context('mode.use_inf_as_na', True):\n"
     ]
    },
    {
     "data": {
      "text/plain": [
       "<Axes: xlabel='track_popularity', ylabel='Count'>"
      ]
     },
     "execution_count": 16,
     "metadata": {},
     "output_type": "execute_result"
    },
    {
     "data": {
      "text/plain": [
       "<Figure size 640x480 with 1 Axes>"
      ],
      "image/png": "[encoded data removed]"
     },
     "metadata": {},
     "output_type": "display_data"
    }
   ],
   "execution_count": 16
  },
  {
   "metadata": {
    "ExecuteTime": {
     "end_time": "2024-04-12T08:17:39.381644Z",
     "start_time": "2024-04-12T08:17:38.733215Z"
    }
   },
   "cell_type": "code",
   "source": [
    "y_pred = forest.predict(X_test)\n",
    "\n",
    "error = np.abs(y_test - y_pred)\n",
    "\n",
    "sns.histplot(error)"
   ],
   "id": "b4e4c046f403b4f0",
   "outputs": [
    {
     "name": "stderr",
     "output_type": "stream",
     "text": [
      "C:\\Users\\tobia\\miniconda3\\envs\\aids\\lib\\site-packages\\seaborn\\_oldcore.py:1498: FutureWarning: is_categorical_dtype is deprecated and will be removed in a future version. Use isinstance(dtype, CategoricalDtype) instead\n",
      "  if pd.api.types.is_categorical_dtype(vector):\n",
      "C:\\Users\\tobia\\miniconda3\\envs\\aids\\lib\\site-packages\\seaborn\\_oldcore.py:1119: FutureWarning: use_inf_as_na option is deprecated and will be removed in a future version. Convert inf values to NaN before operating instead.\n",
      "  with pd.option_context('mode.use_inf_as_na', True):\n"
     ]
    },
    {
     "data": {
      "text/plain": [
       "<Axes: xlabel='track_popularity', ylabel='Count'>"
      ]
     },
     "execution_count": 13,
     "metadata": {},
     "output_type": "execute_result"
    },
    {
     "data": {
      "text/plain": [
       "<Figure size 640x480 with 1 Axes>"
      ],
      "image/png": "[encoded data removed]"
     },
     "metadata": {},
     "output_type": "display_data"
    }
   ],
   "execution_count": 13
  },
  {
   "metadata": {
    "ExecuteTime": {
     "end_time": "2024-04-12T08:26:20.104062Z",
     "start_time": "2024-04-12T08:26:07.278346Z"
    }
   },
   "cell_type": "code",
   "source": [
    "y_pred = svr.predict(X_test)\n",
    "\n",
    "error = np.abs(y_test - y_pred)\n",
    "\n",
    "sns.histplot(error)"
   ],
   "id": "33b6e54731db1bc5",
   "outputs": [
    {
     "name": "stderr",
     "output_type": "stream",
     "text": [
      "C:\\Users\\tobia\\miniconda3\\envs\\aids\\lib\\site-packages\\seaborn\\_oldcore.py:1498: FutureWarning: is_categorical_dtype is deprecated and will be removed in a future version. Use isinstance(dtype, CategoricalDtype) instead\n",
      "  if pd.api.types.is_categorical_dtype(vector):\n",
      "C:\\Users\\tobia\\miniconda3\\envs\\aids\\lib\\site-packages\\seaborn\\_oldcore.py:1119: FutureWarning: use_inf_as_na option is deprecated and will be removed in a future version. Convert inf values to NaN before operating instead.\n",
      "  with pd.option_context('mode.use_inf_as_na', True):\n"
     ]
    },
    {
     "data": {
      "text/plain": [
       "<Axes: xlabel='track_popularity', ylabel='Count'>"
      ]
     },
     "execution_count": 25,
     "metadata": {},
     "output_type": "execute_result"
    },
    {
     "data": {
      "text/plain": [
       "<Figure size 640x480 with 1 Axes>"
      ],
      "image/png": "[encoded data removed]"
     },
     "metadata": {},
     "output_type": "display_data"
    }
   ],
   "execution_count": 25
  },
  {
   "metadata": {
    "ExecuteTime": {
     "end_time": "2024-04-12T08:17:57.092245Z",
     "start_time": "2024-04-12T08:17:56.813512Z"
    }
   },
   "cell_type": "code",
   "source": [
    "y_pred = gbr.predict(X_test)\n",
    "\n",
    "error = np.abs(y_test - y_pred)\n",
    "\n",
    "sns.histplot(error)"
   ],
   "id": "c17ac68573e4ff39",
   "outputs": [
    {
     "name": "stderr",
     "output_type": "stream",
     "text": [
      "C:\\Users\\tobia\\miniconda3\\envs\\aids\\lib\\site-packages\\seaborn\\_oldcore.py:1498: FutureWarning: is_categorical_dtype is deprecated and will be removed in a future version. Use isinstance(dtype, CategoricalDtype) instead\n",
      "  if pd.api.types.is_categorical_dtype(vector):\n",
      "C:\\Users\\tobia\\miniconda3\\envs\\aids\\lib\\site-packages\\seaborn\\_oldcore.py:1119: FutureWarning: use_inf_as_na option is deprecated and will be removed in a future version. Convert inf values to NaN before operating instead.\n",
      "  with pd.option_context('mode.use_inf_as_na', True):\n"
     ]
    },
    {
     "data": {
      "text/plain": [
       "<Axes: xlabel='track_popularity', ylabel='Count'>"
      ]
     },
     "execution_count": 15,
     "metadata": {},
     "output_type": "execute_result"
    },
    {
     "data": {
      "text/plain": [
       "<Figure size 640x480 with 1 Axes>"
      ],
      "image/png": "[encoded data removed]"
     },
     "metadata": {},
     "output_type": "display_data"
    }
   ],
   "execution_count": 15
  },
  {
   "metadata": {
    "ExecuteTime": {
     "end_time": "2024-04-12T08:34:57.455212Z",
     "start_time": "2024-04-12T08:34:57.239383Z"
    }
   },
   "cell_type": "code",
   "source": [
    "from matplotlib import pyplot as plt\n",
    "\n",
    "# Calculate the absolute error\n",
    "error = np.abs(y_test - y_pred)\n",
    "\n",
    "# Create a colormap based on the popularity values\n",
    "cmap = sns.color_palette(\"viridis\", as_cmap=True)  # You can choose any colormap you prefer\n",
    "\n",
    "# Plot the histogram with colored bins based on popularity\n",
    "sns.histplot(error, bins=20, palette=cmap, weights=y_test, legend=False)\n",
    "\n",
    "# Add color bar to show the mapping between popularity and colors\n",
    "plt.colorbar(label='Popularity')\n",
    "\n",
    "plt.show()"
   ],
   "id": "32acf3891a5bf8aa",
   "outputs": [
    {
     "ename": "ValueError",
     "evalue": "The following variable cannot be assigned with wide-form data: `weights`",
     "output_type": "error",
     "traceback": [
      "\u001B[1;31m---------------------------------------------------------------------------\u001B[0m",
      "\u001B[1;31mValueError\u001B[0m                                Traceback (most recent call last)",
      "Cell \u001B[1;32mIn[30], line 10\u001B[0m\n\u001B[0;32m      7\u001B[0m cmap \u001B[38;5;241m=\u001B[39m sns\u001B[38;5;241m.\u001B[39mcolor_palette(\u001B[38;5;124m\"\u001B[39m\u001B[38;5;124mviridis\u001B[39m\u001B[38;5;124m\"\u001B[39m, as_cmap\u001B[38;5;241m=\u001B[39m\u001B[38;5;28;01mTrue\u001B[39;00m)  \u001B[38;5;66;03m# You can choose any colormap you prefer\u001B[39;00m\n\u001B[0;32m      9\u001B[0m \u001B[38;5;66;03m# Plot the histogram with colored bins based on popularity\u001B[39;00m\n\u001B[1;32m---> 10\u001B[0m \u001B[43msns\u001B[49m\u001B[38;5;241;43m.\u001B[39;49m\u001B[43mhistplot\u001B[49m\u001B[43m(\u001B[49m\u001B[43merror\u001B[49m\u001B[43m,\u001B[49m\u001B[43m \u001B[49m\u001B[43mbins\u001B[49m\u001B[38;5;241;43m=\u001B[39;49m\u001B[38;5;241;43m20\u001B[39;49m\u001B[43m,\u001B[49m\u001B[43m \u001B[49m\u001B[43mpalette\u001B[49m\u001B[38;5;241;43m=\u001B[39;49m\u001B[43mcmap\u001B[49m\u001B[43m,\u001B[49m\u001B[43m \u001B[49m\u001B[43mweights\u001B[49m\u001B[38;5;241;43m=\u001B[39;49m\u001B[43my_test\u001B[49m\u001B[43m,\u001B[49m\u001B[43m \u001B[49m\u001B[43mlegend\u001B[49m\u001B[38;5;241;43m=\u001B[39;49m\u001B[38;5;28;43;01mFalse\u001B[39;49;00m\u001B[43m)\u001B[49m\n\u001B[0;32m     12\u001B[0m \u001B[38;5;66;03m# Add color bar to show the mapping between popularity and colors\u001B[39;00m\n\u001B[0;32m     13\u001B[0m plt\u001B[38;5;241m.\u001B[39mcolorbar(label\u001B[38;5;241m=\u001B[39m\u001B[38;5;124m'\u001B[39m\u001B[38;5;124mPopularity\u001B[39m\u001B[38;5;124m'\u001B[39m)\n",
      "File \u001B[1;32m~\\miniconda3\\envs\\aids\\lib\\site-packages\\seaborn\\distributions.py:1395\u001B[0m, in \u001B[0;36mhistplot\u001B[1;34m(data, x, y, hue, weights, stat, bins, binwidth, binrange, discrete, cumulative, common_bins, common_norm, multiple, element, fill, shrink, kde, kde_kws, line_kws, thresh, pthresh, pmax, cbar, cbar_ax, cbar_kws, palette, hue_order, hue_norm, color, log_scale, legend, ax, **kwargs)\u001B[0m\n\u001B[0;32m   1374\u001B[0m \u001B[38;5;28;01mdef\u001B[39;00m \u001B[38;5;21mhistplot\u001B[39m(\n\u001B[0;32m   1375\u001B[0m     data\u001B[38;5;241m=\u001B[39m\u001B[38;5;28;01mNone\u001B[39;00m, \u001B[38;5;241m*\u001B[39m,\n\u001B[0;32m   1376\u001B[0m     \u001B[38;5;66;03m# Vector variables\u001B[39;00m\n\u001B[1;32m   (...)\u001B[0m\n\u001B[0;32m   1392\u001B[0m     \u001B[38;5;241m*\u001B[39m\u001B[38;5;241m*\u001B[39mkwargs,\n\u001B[0;32m   1393\u001B[0m ):\n\u001B[1;32m-> 1395\u001B[0m     p \u001B[38;5;241m=\u001B[39m \u001B[43m_DistributionPlotter\u001B[49m\u001B[43m(\u001B[49m\n\u001B[0;32m   1396\u001B[0m \u001B[43m        \u001B[49m\u001B[43mdata\u001B[49m\u001B[38;5;241;43m=\u001B[39;49m\u001B[43mdata\u001B[49m\u001B[43m,\u001B[49m\n\u001B[0;32m   1397\u001B[0m \u001B[43m        \u001B[49m\u001B[43mvariables\u001B[49m\u001B[38;5;241;43m=\u001B[39;49m\u001B[43m_DistributionPlotter\u001B[49m\u001B[38;5;241;43m.\u001B[39;49m\u001B[43mget_semantics\u001B[49m\u001B[43m(\u001B[49m\u001B[38;5;28;43mlocals\u001B[39;49m\u001B[43m(\u001B[49m\u001B[43m)\u001B[49m\u001B[43m)\u001B[49m\n\u001B[0;32m   1398\u001B[0m \u001B[43m    \u001B[49m\u001B[43m)\u001B[49m\n\u001B[0;32m   1400\u001B[0m     p\u001B[38;5;241m.\u001B[39mmap_hue(palette\u001B[38;5;241m=\u001B[39mpalette, order\u001B[38;5;241m=\u001B[39mhue_order, norm\u001B[38;5;241m=\u001B[39mhue_norm)\n\u001B[0;32m   1402\u001B[0m     \u001B[38;5;28;01mif\u001B[39;00m ax \u001B[38;5;129;01mis\u001B[39;00m \u001B[38;5;28;01mNone\u001B[39;00m:\n",
      "File \u001B[1;32m~\\miniconda3\\envs\\aids\\lib\\site-packages\\seaborn\\distributions.py:113\u001B[0m, in \u001B[0;36m_DistributionPlotter.__init__\u001B[1;34m(self, data, variables)\u001B[0m\n\u001B[0;32m    107\u001B[0m \u001B[38;5;28;01mdef\u001B[39;00m \u001B[38;5;21m__init__\u001B[39m(\n\u001B[0;32m    108\u001B[0m     \u001B[38;5;28mself\u001B[39m,\n\u001B[0;32m    109\u001B[0m     data\u001B[38;5;241m=\u001B[39m\u001B[38;5;28;01mNone\u001B[39;00m,\n\u001B[0;32m    110\u001B[0m     variables\u001B[38;5;241m=\u001B[39m{},\n\u001B[0;32m    111\u001B[0m ):\n\u001B[1;32m--> 113\u001B[0m     \u001B[38;5;28;43msuper\u001B[39;49m\u001B[43m(\u001B[49m\u001B[43m)\u001B[49m\u001B[38;5;241;43m.\u001B[39;49m\u001B[38;5;21;43m__init__\u001B[39;49m\u001B[43m(\u001B[49m\u001B[43mdata\u001B[49m\u001B[38;5;241;43m=\u001B[39;49m\u001B[43mdata\u001B[49m\u001B[43m,\u001B[49m\u001B[43m \u001B[49m\u001B[43mvariables\u001B[49m\u001B[38;5;241;43m=\u001B[39;49m\u001B[43mvariables\u001B[49m\u001B[43m)\u001B[49m\n",
      "File \u001B[1;32m~\\miniconda3\\envs\\aids\\lib\\site-packages\\seaborn\\_oldcore.py:640\u001B[0m, in \u001B[0;36mVectorPlotter.__init__\u001B[1;34m(self, data, variables)\u001B[0m\n\u001B[0;32m    635\u001B[0m \u001B[38;5;66;03m# var_ordered is relevant only for categorical axis variables, and may\u001B[39;00m\n\u001B[0;32m    636\u001B[0m \u001B[38;5;66;03m# be better handled by an internal axis information object that tracks\u001B[39;00m\n\u001B[0;32m    637\u001B[0m \u001B[38;5;66;03m# such information and is set up by the scale_* methods. The analogous\u001B[39;00m\n\u001B[0;32m    638\u001B[0m \u001B[38;5;66;03m# information for numeric axes would be information about log scales.\u001B[39;00m\n\u001B[0;32m    639\u001B[0m \u001B[38;5;28mself\u001B[39m\u001B[38;5;241m.\u001B[39m_var_ordered \u001B[38;5;241m=\u001B[39m {\u001B[38;5;124m\"\u001B[39m\u001B[38;5;124mx\u001B[39m\u001B[38;5;124m\"\u001B[39m: \u001B[38;5;28;01mFalse\u001B[39;00m, \u001B[38;5;124m\"\u001B[39m\u001B[38;5;124my\u001B[39m\u001B[38;5;124m\"\u001B[39m: \u001B[38;5;28;01mFalse\u001B[39;00m}  \u001B[38;5;66;03m# alt., used DefaultDict\u001B[39;00m\n\u001B[1;32m--> 640\u001B[0m \u001B[38;5;28;43mself\u001B[39;49m\u001B[38;5;241;43m.\u001B[39;49m\u001B[43massign_variables\u001B[49m\u001B[43m(\u001B[49m\u001B[43mdata\u001B[49m\u001B[43m,\u001B[49m\u001B[43m \u001B[49m\u001B[43mvariables\u001B[49m\u001B[43m)\u001B[49m\n\u001B[0;32m    642\u001B[0m \u001B[38;5;28;01mfor\u001B[39;00m var, \u001B[38;5;28mcls\u001B[39m \u001B[38;5;129;01min\u001B[39;00m \u001B[38;5;28mself\u001B[39m\u001B[38;5;241m.\u001B[39m_semantic_mappings\u001B[38;5;241m.\u001B[39mitems():\n\u001B[0;32m    643\u001B[0m \n\u001B[0;32m    644\u001B[0m     \u001B[38;5;66;03m# Create the mapping function\u001B[39;00m\n\u001B[0;32m    645\u001B[0m     map_func \u001B[38;5;241m=\u001B[39m partial(\u001B[38;5;28mcls\u001B[39m\u001B[38;5;241m.\u001B[39mmap, plotter\u001B[38;5;241m=\u001B[39m\u001B[38;5;28mself\u001B[39m)\n",
      "File \u001B[1;32m~\\miniconda3\\envs\\aids\\lib\\site-packages\\seaborn\\_oldcore.py:696\u001B[0m, in \u001B[0;36mVectorPlotter.assign_variables\u001B[1;34m(self, data, variables)\u001B[0m\n\u001B[0;32m    694\u001B[0m \u001B[38;5;28;01mif\u001B[39;00m x \u001B[38;5;129;01mis\u001B[39;00m \u001B[38;5;28;01mNone\u001B[39;00m \u001B[38;5;129;01mand\u001B[39;00m y \u001B[38;5;129;01mis\u001B[39;00m \u001B[38;5;28;01mNone\u001B[39;00m:\n\u001B[0;32m    695\u001B[0m     \u001B[38;5;28mself\u001B[39m\u001B[38;5;241m.\u001B[39minput_format \u001B[38;5;241m=\u001B[39m \u001B[38;5;124m\"\u001B[39m\u001B[38;5;124mwide\u001B[39m\u001B[38;5;124m\"\u001B[39m\n\u001B[1;32m--> 696\u001B[0m     plot_data, variables \u001B[38;5;241m=\u001B[39m \u001B[38;5;28mself\u001B[39m\u001B[38;5;241m.\u001B[39m_assign_variables_wideform(\n\u001B[0;32m    697\u001B[0m         data, \u001B[38;5;241m*\u001B[39m\u001B[38;5;241m*\u001B[39mvariables,\n\u001B[0;32m    698\u001B[0m     )\n\u001B[0;32m    699\u001B[0m \u001B[38;5;28;01melse\u001B[39;00m:\n\u001B[0;32m    700\u001B[0m     \u001B[38;5;28mself\u001B[39m\u001B[38;5;241m.\u001B[39minput_format \u001B[38;5;241m=\u001B[39m \u001B[38;5;124m\"\u001B[39m\u001B[38;5;124mlong\u001B[39m\u001B[38;5;124m\"\u001B[39m\n",
      "File \u001B[1;32m~\\miniconda3\\envs\\aids\\lib\\site-packages\\seaborn\\_oldcore.py:745\u001B[0m, in \u001B[0;36mVectorPlotter._assign_variables_wideform\u001B[1;34m(self, data, **kwargs)\u001B[0m\n\u001B[0;32m    743\u001B[0m     err \u001B[38;5;241m=\u001B[39m \u001B[38;5;124mf\u001B[39m\u001B[38;5;124m\"\u001B[39m\u001B[38;5;124mThe following variable\u001B[39m\u001B[38;5;132;01m{\u001B[39;00ms\u001B[38;5;132;01m}\u001B[39;00m\u001B[38;5;124m cannot be assigned with wide-form data: \u001B[39m\u001B[38;5;124m\"\u001B[39m\n\u001B[0;32m    744\u001B[0m     err \u001B[38;5;241m+\u001B[39m\u001B[38;5;241m=\u001B[39m \u001B[38;5;124m\"\u001B[39m\u001B[38;5;124m, \u001B[39m\u001B[38;5;124m\"\u001B[39m\u001B[38;5;241m.\u001B[39mjoin(\u001B[38;5;124mf\u001B[39m\u001B[38;5;124m\"\u001B[39m\u001B[38;5;124m`\u001B[39m\u001B[38;5;132;01m{\u001B[39;00mv\u001B[38;5;132;01m}\u001B[39;00m\u001B[38;5;124m`\u001B[39m\u001B[38;5;124m\"\u001B[39m \u001B[38;5;28;01mfor\u001B[39;00m v \u001B[38;5;129;01min\u001B[39;00m assigned)\n\u001B[1;32m--> 745\u001B[0m     \u001B[38;5;28;01mraise\u001B[39;00m \u001B[38;5;167;01mValueError\u001B[39;00m(err)\n\u001B[0;32m    747\u001B[0m \u001B[38;5;66;03m# Determine if the data object actually has any data in it\u001B[39;00m\n\u001B[0;32m    748\u001B[0m empty \u001B[38;5;241m=\u001B[39m data \u001B[38;5;129;01mis\u001B[39;00m \u001B[38;5;28;01mNone\u001B[39;00m \u001B[38;5;129;01mor\u001B[39;00m \u001B[38;5;129;01mnot\u001B[39;00m \u001B[38;5;28mlen\u001B[39m(data)\n",
      "\u001B[1;31mValueError\u001B[0m: The following variable cannot be assigned with wide-form data: `weights`"
     ]
    }
   ],
   "execution_count": 30
  },
  {
   "metadata": {
    "ExecuteTime": {
     "end_time": "2024-04-12T08:33:09.878654Z",
     "start_time": "2024-04-12T08:33:09.854274Z"
    }
   },
   "cell_type": "code",
   "source": "X_test",
   "id": "4807cb84d5fc3647",
   "outputs": [
    {
     "data": {
      "text/plain": [
       "       danceability    energy       key  loudness  mode  speechiness  \\\n",
       "28812      0.663276  0.750956  0.545455  0.798797   0.0     0.040196   \n",
       "24610      0.582909  0.849974  0.090909  0.871613   0.0     0.359477   \n",
       "15250      0.601221  0.744955  0.727273  0.825661   0.0     0.046187   \n",
       "21710      0.559512  0.403896  0.000000  0.706012   0.0     0.043355   \n",
       "19290      0.768057  0.719951  0.090909  0.884961   0.0     0.089978   \n",
       "...             ...       ...       ...       ...   ...          ...   \n",
       "8858       0.661241  0.887980  0.636364  0.866647   1.0     0.350763   \n",
       "20582      0.704985  0.893981  1.000000  0.809610   1.0     0.058388   \n",
       "16337      0.720244  0.708949  0.818182  0.814974   1.0     0.051416   \n",
       "26578      0.556460  0.429900  0.181818  0.818369   1.0     0.072658   \n",
       "2388       0.663276  0.811967  0.272727  0.893720   0.0     0.044553   \n",
       "\n",
       "       acousticness  instrumentalness  liveness   valence     tempo  \\\n",
       "28812      0.112676          0.595573  0.102410  0.040262  0.509622   \n",
       "24610      0.031891          0.000000  0.052309  0.698285  0.776019   \n",
       "15250      0.418511          0.003541  0.876506  0.396569  0.525639   \n",
       "21710      0.443662          0.000221  0.110442  0.331988  0.563882   \n",
       "19290      0.350101          0.000000  0.168675  0.719475  0.734756   \n",
       "...             ...               ...       ...       ...       ...   \n",
       "8858       0.662978          0.000045  0.105422  0.343088  0.384042   \n",
       "20582      0.026761          0.210262  0.059940  0.780020  0.496329   \n",
       "16337      0.585513          0.000519  0.071988  0.970737  0.401128   \n",
       "26578      0.853119          0.616700  0.082831  0.176589  0.479156   \n",
       "2388       0.001258          0.000030  0.669679  0.726539  0.526324   \n",
       "\n",
       "       duration_ms  \n",
       "28812     0.455378  \n",
       "24610     0.542743  \n",
       "15250     0.613742  \n",
       "21710     0.527354  \n",
       "19290     0.357122  \n",
       "...            ...  \n",
       "8858      0.297853  \n",
       "20582     0.690138  \n",
       "16337     0.422351  \n",
       "26578     0.347340  \n",
       "2388      0.441278  \n",
       "\n",
       "[6565 rows x 12 columns]"
      ],
      "text/html": [
       "<div>\n",
       "<style scoped>\n",
       "    .dataframe tbody tr th:only-of-type {\n",
       "        vertical-align: middle;\n",
       "    }\n",
       "\n",
       "    .dataframe tbody tr th {\n",
       "        vertical-align: top;\n",
       "    }\n",
       "\n",
       "    .dataframe thead th {\n",
       "        text-align: right;\n",
       "    }\n",
       "</style>\n",
       "<table border=\"1\" class=\"dataframe\">\n",
       "  <thead>\n",
       "    <tr style=\"text-align: right;\">\n",
       "      <th></th>\n",
       "      <th>danceability</th>\n",
       "      <th>energy</th>\n",
       "      <th>key</th>\n",
       "      <th>loudness</th>\n",
       "      <th>mode</th>\n",
       "      <th>speechiness</th>\n",
       "      <th>acousticness</th>\n",
       "      <th>instrumentalness</th>\n",
       "      <th>liveness</th>\n",
       "      <th>valence</th>\n",
       "      <th>tempo</th>\n",
       "      <th>duration_ms</th>\n",
       "    </tr>\n",
       "  </thead>\n",
       "  <tbody>\n",
       "    <tr>\n",
       "      <th>28812</th>\n",
       "      <td>0.663276</td>\n",
       "      <td>0.750956</td>\n",
       "      <td>0.545455</td>\n",
       "      <td>0.798797</td>\n",
       "      <td>0.0</td>\n",
       "      <td>0.040196</td>\n",
       "      <td>0.112676</td>\n",
       "      <td>0.595573</td>\n",
       "      <td>0.102410</td>\n",
       "      <td>0.040262</td>\n",
       "      <td>0.509622</td>\n",
       "      <td>0.455378</td>\n",
       "    </tr>\n",
       "    <tr>\n",
       "      <th>24610</th>\n",
       "      <td>0.582909</td>\n",
       "      <td>0.849974</td>\n",
       "      <td>0.090909</td>\n",
       "      <td>0.871613</td>\n",
       "      <td>0.0</td>\n",
       "      <td>0.359477</td>\n",
       "      <td>0.031891</td>\n",
       "      <td>0.000000</td>\n",
       "      <td>0.052309</td>\n",
       "      <td>0.698285</td>\n",
       "      <td>0.776019</td>\n",
       "      <td>0.542743</td>\n",
       "    </tr>\n",
       "    <tr>\n",
       "      <th>15250</th>\n",
       "      <td>0.601221</td>\n",
       "      <td>0.744955</td>\n",
       "      <td>0.727273</td>\n",
       "      <td>0.825661</td>\n",
       "      <td>0.0</td>\n",
       "      <td>0.046187</td>\n",
       "      <td>0.418511</td>\n",
       "      <td>0.003541</td>\n",
       "      <td>0.876506</td>\n",
       "      <td>0.396569</td>\n",
       "      <td>0.525639</td>\n",
       "      <td>0.613742</td>\n",
       "    </tr>\n",
       "    <tr>\n",
       "      <th>21710</th>\n",
       "      <td>0.559512</td>\n",
       "      <td>0.403896</td>\n",
       "      <td>0.000000</td>\n",
       "      <td>0.706012</td>\n",
       "      <td>0.0</td>\n",
       "      <td>0.043355</td>\n",
       "      <td>0.443662</td>\n",
       "      <td>0.000221</td>\n",
       "      <td>0.110442</td>\n",
       "      <td>0.331988</td>\n",
       "      <td>0.563882</td>\n",
       "      <td>0.527354</td>\n",
       "    </tr>\n",
       "    <tr>\n",
       "      <th>19290</th>\n",
       "      <td>0.768057</td>\n",
       "      <td>0.719951</td>\n",
       "      <td>0.090909</td>\n",
       "      <td>0.884961</td>\n",
       "      <td>0.0</td>\n",
       "      <td>0.089978</td>\n",
       "      <td>0.350101</td>\n",
       "      <td>0.000000</td>\n",
       "      <td>0.168675</td>\n",
       "      <td>0.719475</td>\n",
       "      <td>0.734756</td>\n",
       "      <td>0.357122</td>\n",
       "    </tr>\n",
       "    <tr>\n",
       "      <th>...</th>\n",
       "      <td>...</td>\n",
       "      <td>...</td>\n",
       "      <td>...</td>\n",
       "      <td>...</td>\n",
       "      <td>...</td>\n",
       "      <td>...</td>\n",
       "      <td>...</td>\n",
       "      <td>...</td>\n",
       "      <td>...</td>\n",
       "      <td>...</td>\n",
       "      <td>...</td>\n",
       "      <td>...</td>\n",
       "    </tr>\n",
       "    <tr>\n",
       "      <th>8858</th>\n",
       "      <td>0.661241</td>\n",
       "      <td>0.887980</td>\n",
       "      <td>0.636364</td>\n",
       "      <td>0.866647</td>\n",
       "      <td>1.0</td>\n",
       "      <td>0.350763</td>\n",
       "      <td>0.662978</td>\n",
       "      <td>0.000045</td>\n",
       "      <td>0.105422</td>\n",
       "      <td>0.343088</td>\n",
       "      <td>0.384042</td>\n",
       "      <td>0.297853</td>\n",
       "    </tr>\n",
       "    <tr>\n",
       "      <th>20582</th>\n",
       "      <td>0.704985</td>\n",
       "      <td>0.893981</td>\n",
       "      <td>1.000000</td>\n",
       "      <td>0.809610</td>\n",
       "      <td>1.0</td>\n",
       "      <td>0.058388</td>\n",
       "      <td>0.026761</td>\n",
       "      <td>0.210262</td>\n",
       "      <td>0.059940</td>\n",
       "      <td>0.780020</td>\n",
       "      <td>0.496329</td>\n",
       "      <td>0.690138</td>\n",
       "    </tr>\n",
       "    <tr>\n",
       "      <th>16337</th>\n",
       "      <td>0.720244</td>\n",
       "      <td>0.708949</td>\n",
       "      <td>0.818182</td>\n",
       "      <td>0.814974</td>\n",
       "      <td>1.0</td>\n",
       "      <td>0.051416</td>\n",
       "      <td>0.585513</td>\n",
       "      <td>0.000519</td>\n",
       "      <td>0.071988</td>\n",
       "      <td>0.970737</td>\n",
       "      <td>0.401128</td>\n",
       "      <td>0.422351</td>\n",
       "    </tr>\n",
       "    <tr>\n",
       "      <th>26578</th>\n",
       "      <td>0.556460</td>\n",
       "      <td>0.429900</td>\n",
       "      <td>0.181818</td>\n",
       "      <td>0.818369</td>\n",
       "      <td>1.0</td>\n",
       "      <td>0.072658</td>\n",
       "      <td>0.853119</td>\n",
       "      <td>0.616700</td>\n",
       "      <td>0.082831</td>\n",
       "      <td>0.176589</td>\n",
       "      <td>0.479156</td>\n",
       "      <td>0.347340</td>\n",
       "    </tr>\n",
       "    <tr>\n",
       "      <th>2388</th>\n",
       "      <td>0.663276</td>\n",
       "      <td>0.811967</td>\n",
       "      <td>0.272727</td>\n",
       "      <td>0.893720</td>\n",
       "      <td>0.0</td>\n",
       "      <td>0.044553</td>\n",
       "      <td>0.001258</td>\n",
       "      <td>0.000030</td>\n",
       "      <td>0.669679</td>\n",
       "      <td>0.726539</td>\n",
       "      <td>0.526324</td>\n",
       "      <td>0.441278</td>\n",
       "    </tr>\n",
       "  </tbody>\n",
       "</table>\n",
       "<p>6565 rows × 12 columns</p>\n",
       "</div>"
      ]
     },
     "execution_count": 28,
     "metadata": {},
     "output_type": "execute_result"
    }
   ],
   "execution_count": 28
  },
  {
   "metadata": {},
   "cell_type": "code",
   "outputs": [],
   "execution_count": null,
   "source": "",
   "id": "6521075057684c25"
  }
 ],
 "metadata": {
  "kernelspec": {
   "display_name": "Python 3",
   "language": "python",
   "name": "python3"
  },
  "language_info": {
   "codemirror_mode": {
    "name": "ipython",
    "version": 2
   },
   "file_extension": ".py",
   "mimetype": "text/x-python",
   "name": "python",
   "nbconvert_exporter": "python",
   "pygments_lexer": "ipython2",
   "version": "2.7.6"
  }
 },
 "nbformat": 4,
 "nbformat_minor": 5
}
