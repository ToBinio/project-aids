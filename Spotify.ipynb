{
 "cells": [
  {
   "cell_type": "code",
   "execution_count": 1,
   "id": "initial_id",
   "metadata": {
    "collapsed": true,
    "ExecuteTime": {
     "end_time": "2023-12-15T09:51:40.426629400Z",
     "start_time": "2023-12-15T09:51:40.400957900Z"
    }
   },
   "outputs": [],
   "source": [
    "import pandas as pd\n",
    "import seaborn as sns"
   ]
  },
  {
   "cell_type": "code",
   "execution_count": 3,
   "outputs": [
    {
     "data": {
      "text/plain": "                                            track_name  \\\n748                                            RUMBAT�   \n305                                              HAPPY   \n918                                      THE LONELIEST   \n464                                            Special   \n421  Niagara Falls (Foot or 2) [with Travis Scott &...   \n\n                            artist(s)_name  artist_count  released_year  \\\n748                           Daddy Yankee             1           2022   \n305                                     NF             1           2023   \n918                                  M��ne             1           2022   \n464                                    SZA             1           2022   \n421  Travis Scott, 21 Savage, Metro Boomin             3           2022   \n\n     released_month  released_day  in_spotify_playlists  in_spotify_charts  \\\n748               3            25                  1264                  0   \n305               3            25                   660                  0   \n918              10             7                  1585                  5   \n464              12             9                   906                  0   \n421              12             2                  1602                  0   \n\n       streams  in_apple_playlists  ...  bpm  key   mode danceability_%  \\\n748  157990698                  20  ...   95   D#  Minor             69   \n305   52722996                  22  ...  106    G  Major             73   \n918  225093344                  78  ...  130    D  Major             52   \n464   88092256                   6  ...   76  NaN  Major             60   \n421  195516622                  12  ...   88    G  Minor             49   \n\n     valence_% energy_% acousticness_%  instrumentalness_%  liveness_%  \\\n748         90       91              6                   0          35   \n305         22       86             31                   0          12   \n918         24       60              0                   0           8   \n464         19       20             78                   0          11   \n421         24       66             19                   0          18   \n\n     speechiness_%  \n748              4  \n305              4  \n918              3  \n464              5  \n421             29  \n\n[5 rows x 24 columns]",
      "text/html": "<div>\n<style scoped>\n    .dataframe tbody tr th:only-of-type {\n        vertical-align: middle;\n    }\n\n    .dataframe tbody tr th {\n        vertical-align: top;\n    }\n\n    .dataframe thead th {\n        text-align: right;\n    }\n</style>\n<table border=\"1\" class=\"dataframe\">\n  <thead>\n    <tr style=\"text-align: right;\">\n      <th></th>\n      <th>track_name</th>\n      <th>artist(s)_name</th>\n      <th>artist_count</th>\n      <th>released_year</th>\n      <th>released_month</th>\n      <th>released_day</th>\n      <th>in_spotify_playlists</th>\n      <th>in_spotify_charts</th>\n      <th>streams</th>\n      <th>in_apple_playlists</th>\n      <th>...</th>\n      <th>bpm</th>\n      <th>key</th>\n      <th>mode</th>\n      <th>danceability_%</th>\n      <th>valence_%</th>\n      <th>energy_%</th>\n      <th>acousticness_%</th>\n      <th>instrumentalness_%</th>\n      <th>liveness_%</th>\n      <th>speechiness_%</th>\n    </tr>\n  </thead>\n  <tbody>\n    <tr>\n      <th>748</th>\n      <td>RUMBAT�</td>\n      <td>Daddy Yankee</td>\n      <td>1</td>\n      <td>2022</td>\n      <td>3</td>\n      <td>25</td>\n      <td>1264</td>\n      <td>0</td>\n      <td>157990698</td>\n      <td>20</td>\n      <td>...</td>\n      <td>95</td>\n      <td>D#</td>\n      <td>Minor</td>\n      <td>69</td>\n      <td>90</td>\n      <td>91</td>\n      <td>6</td>\n      <td>0</td>\n      <td>35</td>\n      <td>4</td>\n    </tr>\n    <tr>\n      <th>305</th>\n      <td>HAPPY</td>\n      <td>NF</td>\n      <td>1</td>\n      <td>2023</td>\n      <td>3</td>\n      <td>25</td>\n      <td>660</td>\n      <td>0</td>\n      <td>52722996</td>\n      <td>22</td>\n      <td>...</td>\n      <td>106</td>\n      <td>G</td>\n      <td>Major</td>\n      <td>73</td>\n      <td>22</td>\n      <td>86</td>\n      <td>31</td>\n      <td>0</td>\n      <td>12</td>\n      <td>4</td>\n    </tr>\n    <tr>\n      <th>918</th>\n      <td>THE LONELIEST</td>\n      <td>M��ne</td>\n      <td>1</td>\n      <td>2022</td>\n      <td>10</td>\n      <td>7</td>\n      <td>1585</td>\n      <td>5</td>\n      <td>225093344</td>\n      <td>78</td>\n      <td>...</td>\n      <td>130</td>\n      <td>D</td>\n      <td>Major</td>\n      <td>52</td>\n      <td>24</td>\n      <td>60</td>\n      <td>0</td>\n      <td>0</td>\n      <td>8</td>\n      <td>3</td>\n    </tr>\n    <tr>\n      <th>464</th>\n      <td>Special</td>\n      <td>SZA</td>\n      <td>1</td>\n      <td>2022</td>\n      <td>12</td>\n      <td>9</td>\n      <td>906</td>\n      <td>0</td>\n      <td>88092256</td>\n      <td>6</td>\n      <td>...</td>\n      <td>76</td>\n      <td>NaN</td>\n      <td>Major</td>\n      <td>60</td>\n      <td>19</td>\n      <td>20</td>\n      <td>78</td>\n      <td>0</td>\n      <td>11</td>\n      <td>5</td>\n    </tr>\n    <tr>\n      <th>421</th>\n      <td>Niagara Falls (Foot or 2) [with Travis Scott &amp;...</td>\n      <td>Travis Scott, 21 Savage, Metro Boomin</td>\n      <td>3</td>\n      <td>2022</td>\n      <td>12</td>\n      <td>2</td>\n      <td>1602</td>\n      <td>0</td>\n      <td>195516622</td>\n      <td>12</td>\n      <td>...</td>\n      <td>88</td>\n      <td>G</td>\n      <td>Minor</td>\n      <td>49</td>\n      <td>24</td>\n      <td>66</td>\n      <td>19</td>\n      <td>0</td>\n      <td>18</td>\n      <td>29</td>\n    </tr>\n  </tbody>\n</table>\n<p>5 rows × 24 columns</p>\n</div>"
     },
     "execution_count": 3,
     "metadata": {},
     "output_type": "execute_result"
    }
   ],
   "source": [
    "data = pd.read_csv(\"assets/spotify-2023.csv\")\n",
    "data.sample(5)"
   ],
   "metadata": {
    "collapsed": false,
    "ExecuteTime": {
     "end_time": "2023-12-15T09:52:30.406750300Z",
     "start_time": "2023-12-15T09:52:30.296995100Z"
    }
   },
   "id": "ddcfa6062d5c6994"
  },
  {
   "cell_type": "code",
   "execution_count": null,
   "outputs": [],
   "source": [
    "sns."
   ],
   "metadata": {
    "collapsed": false
   },
   "id": "19ac84ebb3c0758f"
  }
 ],
 "metadata": {
  "kernelspec": {
   "display_name": "Python 3",
   "language": "python",
   "name": "python3"
  },
  "language_info": {
   "codemirror_mode": {
    "name": "ipython",
    "version": 2
   },
   "file_extension": ".py",
   "mimetype": "text/x-python",
   "name": "python",
   "nbconvert_exporter": "python",
   "pygments_lexer": "ipython2",
   "version": "2.7.6"
  }
 },
 "nbformat": 4,
 "nbformat_minor": 5
}
