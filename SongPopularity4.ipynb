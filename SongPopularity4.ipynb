{
 "cells": [
  {
   "cell_type": "code",
   "id": "initial_id",
   "metadata": {
    "collapsed": true,
    "ExecuteTime": {
     "end_time": "2024-04-12T08:41:32.651431Z",
     "start_time": "2024-04-12T08:41:31.889872Z"
    }
   },
   "source": [
    "import numpy as np\n",
    "import pandas as pd\n",
    "import seaborn as sns\n",
    "from scipy.stats import randint, norm\n",
    "from sklearn.compose import ColumnTransformer\n",
    "from sklearn.ensemble import RandomForestRegressor, GradientBoostingClassifier\n",
    "from sklearn.impute import SimpleImputer\n",
    "from sklearn.linear_model import LinearRegression\n",
    "from sklearn.metrics import mean_squared_error\n",
    "from sklearn.model_selection import train_test_split, GridSearchCV, RandomizedSearchCV\n",
    "from sklearn.pipeline import Pipeline\n",
    "from sklearn.preprocessing import OneHotEncoder\n",
    "from sklearn.preprocessing import RobustScaler\n",
    "from sklearn.svm import SVC\n",
    "from sklearn.ensemble import GradientBoostingClassifier\n",
    "from sklearn.ensemble import RandomForestClassifier\n",
    "from sklearn.model_selection import train_test_split, GridSearchCV\n",
    "from sklearn.ensemble import RandomForestClassifier\n",
    "from sklearn.metrics import confusion_matrix"
   ],
   "outputs": [],
   "execution_count": 2
  },
  {
   "cell_type": "markdown",
   "source": [],
   "metadata": {
    "collapsed": false
   },
   "id": "639afb26858aeeba"
  },
  {
   "metadata": {},
   "cell_type": "markdown",
   "source": "# Classificator nur mit weird values",
   "id": "b1dcd825dae92ed2"
  },
  {
   "cell_type": "code",
   "source": [
    "from sklearn.preprocessing import MinMaxScaler\n",
    "\n",
    "spotify = pd.read_csv('./assets/spotify_songs.csv')\n",
    "\n",
    "spotify[\"is_popular\"] = spotify[\"track_popularity\"] > 80\n",
    "\n",
    "spotify = spotify.drop(\n",
    "    columns=[\"track_id\", \"track_name\", \"track_artist\", \"track_album_id\", \"track_album_name\", \"playlist_name\",\n",
    "             \"playlist_id\", \"playlist_genre\", \"playlist_subgenre\", \"track_album_release_date\"])\n",
    "\n",
    "scaler = MinMaxScaler()\n",
    "spotify = pd.DataFrame(scaler.fit_transform(spotify), columns=spotify.columns)\n",
    "\n",
    "spotify.info()"
   ],
   "metadata": {
    "collapsed": false,
    "ExecuteTime": {
     "end_time": "2024-04-12T08:41:34.432948Z",
     "start_time": "2024-04-12T08:41:33.864749Z"
    }
   },
   "id": "e95849f793718a6a",
   "outputs": [
    {
     "name": "stdout",
     "output_type": "stream",
     "text": [
      "<class 'pandas.core.frame.DataFrame'>\n",
      "RangeIndex: 32821 entries, 0 to 32820\n",
      "Data columns (total 14 columns):\n",
      " #   Column            Non-Null Count  Dtype  \n",
      "---  ------            --------------  -----  \n",
      " 0   track_popularity  32821 non-null  float64\n",
      " 1   danceability      32821 non-null  float64\n",
      " 2   energy            32821 non-null  float64\n",
      " 3   key               32821 non-null  float64\n",
      " 4   loudness          32821 non-null  float64\n",
      " 5   mode              32821 non-null  float64\n",
      " 6   speechiness       32821 non-null  float64\n",
      " 7   acousticness      32821 non-null  float64\n",
      " 8   instrumentalness  32821 non-null  float64\n",
      " 9   liveness          32821 non-null  float64\n",
      " 10  valence           32821 non-null  float64\n",
      " 11  tempo             32821 non-null  float64\n",
      " 12  duration_ms       32821 non-null  float64\n",
      " 13  is_popular        32821 non-null  float64\n",
      "dtypes: float64(14)\n",
      "memory usage: 3.5 MB\n"
     ]
    }
   ],
   "execution_count": 3
  },
  {
   "cell_type": "code",
   "source": [
    "X = spotify.drop(columns=['track_popularity', 'is_popular'])\n",
    "y = spotify['is_popular']\n",
    "\n",
    "X_train, X_test, y_train, y_test = train_test_split(X, y, stratify=y, test_size=0.2, random_state=42)"
   ],
   "metadata": {
    "collapsed": false,
    "ExecuteTime": {
     "end_time": "2024-04-12T08:41:39.092979Z",
     "start_time": "2024-04-12T08:41:39.046917Z"
    }
   },
   "id": "305df8c6be951796",
   "outputs": [],
   "execution_count": 4
  },
  {
   "metadata": {
    "ExecuteTime": {
     "end_time": "2024-04-12T07:47:11.240622Z",
     "start_time": "2024-04-12T07:47:05.265365Z"
    }
   },
   "cell_type": "code",
   "source": [
    "forest = RandomForestClassifier(random_state=42)\n",
    "forest.fit(X_train, y_train)\n",
    "forest.score(X_test, y_test)\n",
    "\n",
    "predicted_labels = forest.predict(X_test)\n",
    "\n",
    "confusion_matrix(y_test, predicted_labels)"
   ],
   "id": "d00f147064c6c06",
   "outputs": [
    {
     "data": {
      "text/plain": [
       "array([[6289,    8],\n",
       "       [ 198,   70]], dtype=int64)"
      ]
     },
     "execution_count": 4,
     "metadata": {},
     "output_type": "execute_result"
    }
   ],
   "execution_count": 4
  },
  {
   "metadata": {
    "ExecuteTime": {
     "end_time": "2024-04-12T07:53:43.047088Z",
     "start_time": "2024-04-12T07:53:33.093486Z"
    }
   },
   "cell_type": "code",
   "source": [
    "gradient = GradientBoostingClassifier()\n",
    "gradient.fit(X_train, y_train)\n",
    "gradient.score(X_test, y_test)\n",
    "\n",
    "predicted_labels = gradient.predict(X_test)\n",
    "\n",
    "confusion_matrix(y_test, predicted_labels)"
   ],
   "id": "4c3801bd184d20bb",
   "outputs": [
    {
     "data": {
      "text/plain": [
       "array([[6286,   11],\n",
       "       [ 259,    9]], dtype=int64)"
      ]
     },
     "execution_count": 9,
     "metadata": {},
     "output_type": "execute_result"
    }
   ],
   "execution_count": 9
  },
  {
   "metadata": {
    "ExecuteTime": {
     "end_time": "2024-04-12T08:29:25.005029Z",
     "start_time": "2024-04-12T08:28:47.770438Z"
    }
   },
   "cell_type": "code",
   "source": [
    "vector = SVC(class_weight={0: 1, 1: 10})\n",
    "vector.fit(X_train, y_train)\n",
    "vector.score(X_test, y_test)\n",
    "\n",
    "predicted_labels = vector.predict(X_test)\n",
    "\n",
    "confusion_matrix(y_test, predicted_labels)"
   ],
   "id": "397ead3e8eda9063",
   "outputs": [
    {
     "data": {
      "text/plain": [
       "array([[5476,  821],\n",
       "       [ 103,  165]], dtype=int64)"
      ]
     },
     "execution_count": 23,
     "metadata": {},
     "output_type": "execute_result"
    }
   ],
   "execution_count": 23
  },
  {
   "metadata": {},
   "cell_type": "code",
   "outputs": [],
   "execution_count": null,
   "source": "",
   "id": "ee17015304d66320"
  },
  {
   "metadata": {
    "ExecuteTime": {
     "end_time": "2024-04-12T08:46:33.756978Z",
     "start_time": "2024-04-12T08:42:04.269174Z"
    }
   },
   "cell_type": "code",
   "source": [
    "#Number of trees in random forest\n",
    "n_estimators = [int(x) for x in np.linspace(start = 100, stop = 500, num = 10)]\n",
    "#Number of features to consider at every split\n",
    "max_features = ['auto', 'sqrt']\n",
    "#Maximum number of levels in tree\n",
    "max_depth = [int(x) for x in np.linspace(10, 110, num = 11)]\n",
    "max_depth.append(None)\n",
    "\n",
    "forest_cv = RandomizedSearchCV(\n",
    "    estimator=RandomForestClassifier(random_state=42),\n",
    "    param_distributions= {'n_estimators': n_estimators,\n",
    "                          'max_features': max_features,\n",
    "                          'class_weight': [{0: 1, 1: 2}, {0: 1, 1: 5}],\n",
    "                          'max_depth': max_depth},\n",
    "    n_jobs=-1,\n",
    "    cv=5,\n",
    "    verbose=999,\n",
    "    scoring='precision',\n",
    "    n_iter=25,\n",
    ")\n",
    "\n",
    "forest_cv.fit(X_train, y_train)\n",
    "forest_cv.score(X_test, y_test)\n",
    "\n",
    "predicted_labels = forest_cv.predict(X_test)\n",
    "\n",
    "confusion_matrix(y_test, predicted_labels)"
   ],
   "id": "63e3a822a3c50f10",
   "outputs": [
    {
     "name": "stdout",
     "output_type": "stream",
     "text": [
      "Fitting 5 folds for each of 25 candidates, totalling 125 fits\n"
     ]
    },
    {
     "name": "stderr",
     "output_type": "stream",
     "text": [
      "C:\\Users\\tobia\\miniconda3\\envs\\aids\\lib\\site-packages\\sklearn\\model_selection\\_validation.py:425: FitFailedWarning: \n",
      "60 fits failed out of a total of 125.\n",
      "The score on these train-test partitions for these parameters will be set to nan.\n",
      "If these failures are not expected, you can try to debug them by setting error_score='raise'.\n",
      "\n",
      "Below are more details about the failures:\n",
      "--------------------------------------------------------------------------------\n",
      "10 fits failed with the following error:\n",
      "Traceback (most recent call last):\n",
      "  File \"C:\\Users\\tobia\\miniconda3\\envs\\aids\\lib\\site-packages\\sklearn\\model_selection\\_validation.py\", line 729, in _fit_and_score\n",
      "    estimator.fit(X_train, y_train, **fit_params)\n",
      "  File \"C:\\Users\\tobia\\miniconda3\\envs\\aids\\lib\\site-packages\\sklearn\\base.py\", line 1145, in wrapper\n",
      "    estimator._validate_params()\n",
      "  File \"C:\\Users\\tobia\\miniconda3\\envs\\aids\\lib\\site-packages\\sklearn\\base.py\", line 638, in _validate_params\n",
      "    validate_parameter_constraints(\n",
      "  File \"C:\\Users\\tobia\\miniconda3\\envs\\aids\\lib\\site-packages\\sklearn\\utils\\_param_validation.py\", line 95, in validate_parameter_constraints\n",
      "    raise InvalidParameterError(\n",
      "sklearn.utils._param_validation.InvalidParameterError: The 'max_features' parameter of RandomForestClassifier must be an int in the range [1, inf), a float in the range (0.0, 1.0], a str among {'log2', 'sqrt'} or None. Got 'auto' instead.\n",
      "\n",
      "--------------------------------------------------------------------------------\n",
      "50 fits failed with the following error:\n",
      "Traceback (most recent call last):\n",
      "  File \"C:\\Users\\tobia\\miniconda3\\envs\\aids\\lib\\site-packages\\sklearn\\model_selection\\_validation.py\", line 729, in _fit_and_score\n",
      "    estimator.fit(X_train, y_train, **fit_params)\n",
      "  File \"C:\\Users\\tobia\\miniconda3\\envs\\aids\\lib\\site-packages\\sklearn\\base.py\", line 1145, in wrapper\n",
      "    estimator._validate_params()\n",
      "  File \"C:\\Users\\tobia\\miniconda3\\envs\\aids\\lib\\site-packages\\sklearn\\base.py\", line 638, in _validate_params\n",
      "    validate_parameter_constraints(\n",
      "  File \"C:\\Users\\tobia\\miniconda3\\envs\\aids\\lib\\site-packages\\sklearn\\utils\\_param_validation.py\", line 95, in validate_parameter_constraints\n",
      "    raise InvalidParameterError(\n",
      "sklearn.utils._param_validation.InvalidParameterError: The 'max_features' parameter of RandomForestClassifier must be an int in the range [1, inf), a float in the range (0.0, 1.0], a str among {'sqrt', 'log2'} or None. Got 'auto' instead.\n",
      "\n",
      "  warnings.warn(some_fits_failed_message, FitFailedWarning)\n",
      "C:\\Users\\tobia\\miniconda3\\envs\\aids\\lib\\site-packages\\sklearn\\model_selection\\_search.py:979: UserWarning: One or more of the test scores are non-finite: [0.93229198        nan 0.92960669        nan        nan 0.92671774\n",
      " 0.92361672        nan        nan        nan        nan 0.92457716\n",
      " 0.92422165 0.92877389 0.92365981 0.92873158        nan        nan\n",
      "        nan 0.92671774 0.93210495        nan 0.96835339        nan\n",
      " 0.9227737 ]\n",
      "  warnings.warn(\n"
     ]
    },
    {
     "data": {
      "text/plain": [
       "array([[6295,    2],\n",
       "       [ 214,   54]], dtype=int64)"
      ]
     },
     "execution_count": 6,
     "metadata": {},
     "output_type": "execute_result"
    }
   ],
   "execution_count": 6
  },
  {
   "metadata": {
    "ExecuteTime": {
     "end_time": "2024-04-12T08:47:13.018055Z",
     "start_time": "2024-04-12T08:47:12.205691Z"
    }
   },
   "cell_type": "code",
   "source": "forest_cv.score(X_test, y_test)\n",
   "id": "ce7555860b393ed9",
   "outputs": [
    {
     "data": {
      "text/plain": [
       "0.9642857142857143"
      ]
     },
     "execution_count": 7,
     "metadata": {},
     "output_type": "execute_result"
    }
   ],
   "execution_count": 7
  },
  {
   "metadata": {},
   "cell_type": "code",
   "outputs": [],
   "execution_count": null,
   "source": "",
   "id": "44a08e193f50b568"
  }
 ],
 "metadata": {
  "kernelspec": {
   "display_name": "Python 3",
   "language": "python",
   "name": "python3"
  },
  "language_info": {
   "codemirror_mode": {
    "name": "ipython",
    "version": 2
   },
   "file_extension": ".py",
   "mimetype": "text/x-python",
   "name": "python",
   "nbconvert_exporter": "python",
   "pygments_lexer": "ipython2",
   "version": "2.7.6"
  }
 },
 "nbformat": 4,
 "nbformat_minor": 5
}
