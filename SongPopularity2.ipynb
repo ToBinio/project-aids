{
 "cells": [
  {
   "cell_type": "code",
   "id": "initial_id",
   "metadata": {
    "collapsed": true,
    "ExecuteTime": {
     "end_time": "2024-04-11T17:59:54.839650Z",
     "start_time": "2024-04-11T17:59:54.836507Z"
    }
   },
   "source": [
    "import numpy as np\n",
    "import pandas as pd\n",
    "import seaborn as sns\n",
    "from scipy.stats import randint, norm\n",
    "from sklearn.compose import ColumnTransformer\n",
    "from sklearn.ensemble import RandomForestRegressor, GradientBoostingRegressor\n",
    "from sklearn.impute import SimpleImputer\n",
    "from sklearn.linear_model import LinearRegression\n",
    "from sklearn.metrics import mean_squared_error\n",
    "from sklearn.model_selection import train_test_split, GridSearchCV, RandomizedSearchCV\n",
    "from sklearn.pipeline import Pipeline\n",
    "from sklearn.preprocessing import OneHotEncoder\n",
    "from sklearn.preprocessing import RobustScaler\n",
    "from sklearn.svm import SVR\n",
    "from sklearn.ensemble import GradientBoostingRegressor\n",
    "from sklearn.ensemble import RandomForestClassifier\n",
    "from sklearn.model_selection import train_test_split, GridSearchCV\n",
    "from sklearn.ensemble import RandomForestClassifier\n",
    "from sklearn.metrics import confusion_matrix"
   ],
   "outputs": [],
   "execution_count": 11
  },
  {
   "cell_type": "markdown",
   "source": [],
   "metadata": {
    "collapsed": false
   },
   "id": "639afb26858aeeba"
  },
  {
   "cell_type": "code",
   "source": [
    "spotify = pd.read_csv('./assets/spotify_songs.csv')\n",
    "\n",
    "spotify[\"is_popular\"] = spotify[\"track_popularity\"] > 80\n",
    "\n",
    "spotify = spotify.drop(columns=[\"track_id\", \"track_name\", \"track_artist\", \"track_album_id\", \"track_album_name\", \"playlist_name\", \"playlist_id\"])\n",
    "\n",
    "spotify = pd.get_dummies(data=spotify, columns=[\"playlist_genre\", \"playlist_subgenre\"])\n",
    "\n",
    "spotify[\"track_album_release_date\"] = spotify[\"track_album_release_date\"].str.split(\"-\").str[0]\n",
    "\n",
    "spotify[\"track_album_release_date\"] = spotify[\"track_album_release_date\"].astype(float)\n",
    "\n",
    "spotify.info()"
   ],
   "metadata": {
    "collapsed": false,
    "ExecuteTime": {
     "end_time": "2024-04-11T17:59:56.401319Z",
     "start_time": "2024-04-11T17:59:56.180532Z"
    }
   },
   "id": "e95849f793718a6a",
   "outputs": [
    {
     "name": "stdout",
     "output_type": "stream",
     "text": [
      "<class 'pandas.core.frame.DataFrame'>\n",
      "RangeIndex: 32821 entries, 0 to 32820\n",
      "Data columns (total 45 columns):\n",
      " #   Column                                       Non-Null Count  Dtype  \n",
      "---  ------                                       --------------  -----  \n",
      " 0   track_popularity                             32821 non-null  int64  \n",
      " 1   track_album_release_date                     32821 non-null  float64\n",
      " 2   danceability                                 32821 non-null  float64\n",
      " 3   energy                                       32821 non-null  float64\n",
      " 4   key                                          32821 non-null  int64  \n",
      " 5   loudness                                     32821 non-null  float64\n",
      " 6   mode                                         32821 non-null  int64  \n",
      " 7   speechiness                                  32821 non-null  float64\n",
      " 8   acousticness                                 32821 non-null  float64\n",
      " 9   instrumentalness                             32821 non-null  float64\n",
      " 10  liveness                                     32821 non-null  float64\n",
      " 11  valence                                      32821 non-null  float64\n",
      " 12  tempo                                        32821 non-null  float64\n",
      " 13  duration_ms                                  32821 non-null  int64  \n",
      " 14  is_popular                                   32821 non-null  bool   \n",
      " 15  playlist_genre_edm                           32821 non-null  bool   \n",
      " 16  playlist_genre_latin                         32821 non-null  bool   \n",
      " 17  playlist_genre_pop                           32821 non-null  bool   \n",
      " 18  playlist_genre_r&b                           32821 non-null  bool   \n",
      " 19  playlist_genre_rap                           32821 non-null  bool   \n",
      " 20  playlist_genre_rock                          32821 non-null  bool   \n",
      " 21  playlist_subgenre_album rock                 32821 non-null  bool   \n",
      " 22  playlist_subgenre_big room                   32821 non-null  bool   \n",
      " 23  playlist_subgenre_classic rock               32821 non-null  bool   \n",
      " 24  playlist_subgenre_dance pop                  32821 non-null  bool   \n",
      " 25  playlist_subgenre_electro house              32821 non-null  bool   \n",
      " 26  playlist_subgenre_electropop                 32821 non-null  bool   \n",
      " 27  playlist_subgenre_gangster rap               32821 non-null  bool   \n",
      " 28  playlist_subgenre_hard rock                  32821 non-null  bool   \n",
      " 29  playlist_subgenre_hip hop                    32821 non-null  bool   \n",
      " 30  playlist_subgenre_hip pop                    32821 non-null  bool   \n",
      " 31  playlist_subgenre_indie poptimism            32821 non-null  bool   \n",
      " 32  playlist_subgenre_latin hip hop              32821 non-null  bool   \n",
      " 33  playlist_subgenre_latin pop                  32821 non-null  bool   \n",
      " 34  playlist_subgenre_neo soul                   32821 non-null  bool   \n",
      " 35  playlist_subgenre_new jack swing             32821 non-null  bool   \n",
      " 36  playlist_subgenre_permanent wave             32821 non-null  bool   \n",
      " 37  playlist_subgenre_pop edm                    32821 non-null  bool   \n",
      " 38  playlist_subgenre_post-teen pop              32821 non-null  bool   \n",
      " 39  playlist_subgenre_progressive electro house  32821 non-null  bool   \n",
      " 40  playlist_subgenre_reggaeton                  32821 non-null  bool   \n",
      " 41  playlist_subgenre_southern hip hop           32821 non-null  bool   \n",
      " 42  playlist_subgenre_trap                       32821 non-null  bool   \n",
      " 43  playlist_subgenre_tropical                   32821 non-null  bool   \n",
      " 44  playlist_subgenre_urban contemporary         32821 non-null  bool   \n",
      "dtypes: bool(31), float64(10), int64(4)\n",
      "memory usage: 4.5 MB\n"
     ]
    }
   ],
   "execution_count": 12
  },
  {
   "cell_type": "code",
   "source": [
    "X = spotify.drop(columns=['track_popularity', 'is_popular'])\n",
    "y = spotify['is_popular']\n",
    "\n",
    "X_train, X_test, y_train, y_test = train_test_split(X, y, stratify=y, test_size=0.2, random_state=42)"
   ],
   "metadata": {
    "collapsed": false,
    "ExecuteTime": {
     "end_time": "2024-04-11T17:59:58.570291Z",
     "start_time": "2024-04-11T17:59:58.555451Z"
    }
   },
   "id": "305df8c6be951796",
   "outputs": [],
   "execution_count": 13
  },
  {
   "metadata": {
    "ExecuteTime": {
     "end_time": "2024-04-11T18:00:16.377656Z",
     "start_time": "2024-04-11T18:00:13.815779Z"
    }
   },
   "cell_type": "code",
   "source": [
    "forest = RandomForestClassifier(random_state=42)\n",
    "forest.fit(X_train, y_train)\n",
    "forest.score(X_test, y_test)\n",
    "\n",
    "predicted_labels = forest.predict(X_test)\n",
    "\n",
    "confusion_matrix(y_test, predicted_labels)"
   ],
   "id": "d00f147064c6c06",
   "outputs": [
    {
     "data": {
      "text/plain": [
       "array([[6289,    8],\n",
       "       [ 198,   70]], dtype=int64)"
      ]
     },
     "execution_count": 15,
     "metadata": {},
     "output_type": "execute_result"
    }
   ],
   "execution_count": 15
  }
 ],
 "metadata": {
  "kernelspec": {
   "display_name": "Python 3",
   "language": "python",
   "name": "python3"
  },
  "language_info": {
   "codemirror_mode": {
    "name": "ipython",
    "version": 2
   },
   "file_extension": ".py",
   "mimetype": "text/x-python",
   "name": "python",
   "nbconvert_exporter": "python",
   "pygments_lexer": "ipython2",
   "version": "2.7.6"
  }
 },
 "nbformat": 4,
 "nbformat_minor": 5
}
